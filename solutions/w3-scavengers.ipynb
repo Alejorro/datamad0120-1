{
 "cells": [
  {
   "cell_type": "code",
   "execution_count": 1,
   "metadata": {},
   "outputs": [],
   "source": [
    "import os\n",
    "import requests\n",
    "from dotenv import load_dotenv\n",
    "load_dotenv()\n",
    "\n",
    "def requestGithub(endpoint):\n",
    "    token = os.getenv(\"GITHUB_APIKEY\")\n",
    "    if not token:\n",
    "        raise ValueError(\"You must set a GITHUB_APIKEY token\")\n",
    "    \n",
    "    baseUrl = \"https://api.github.com\"\n",
    "    url = baseUrl+endpoint\n",
    "    print(f\"Requesting data from {url}\")\n",
    "    headers = {\n",
    "        \"Authorization\": f\"token {token}\"\n",
    "    }\n",
    "    res = requests.get(url,headers=headers)\n",
    "    if res.status_code != 200:\n",
    "        print(res.text)\n",
    "        raise ValueError(\"Bad Response\")\n",
    "    return res.json()"
   ]
  },
  {
   "cell_type": "code",
   "execution_count": 5,
   "metadata": {},
   "outputs": [
    {
     "name": "stdout",
     "output_type": "stream",
     "text": [
      "Requesting data from https://api.github.com/search/code?q=repo:ironhack-datalabs/scavenger filename:.scavengerhunt\n"
     ]
    }
   ],
   "source": [
    "data = requestGithub(\"/search/code?q=repo:ironhack-datalabs/scavenger filename:.scavengerhunt\")"
   ]
  },
  {
   "cell_type": "code",
   "execution_count": 9,
   "metadata": {},
   "outputs": [
    {
     "data": {
      "text/plain": [
       "{'name': '.0006.scavengerhunt',\n",
       " 'path': '15024/.0006.scavengerhunt',\n",
       " 'sha': '1c9064284a24b3486015eafdb391b141c27ada2b',\n",
       " 'url': 'https://api.github.com/repositories/162375181/contents/15024/.0006.scavengerhunt?ref=9308ccc8a4c34c5e3a991ee815222a9691c32476',\n",
       " 'git_url': 'https://api.github.com/repositories/162375181/git/blobs/1c9064284a24b3486015eafdb391b141c27ada2b',\n",
       " 'html_url': 'https://github.com/ironhack-datalabs/scavenger/blob/9308ccc8a4c34c5e3a991ee815222a9691c32476/15024/.0006.scavengerhunt',\n",
       " 'repository': {'id': 162375181,\n",
       "  'node_id': 'MDEwOlJlcG9zaXRvcnkxNjIzNzUxODE=',\n",
       "  'name': 'scavenger',\n",
       "  'full_name': 'ironhack-datalabs/scavenger',\n",
       "  'private': False,\n",
       "  'owner': {'login': 'ironhack-datalabs',\n",
       "   'id': 44225188,\n",
       "   'node_id': 'MDEyOk9yZ2FuaXphdGlvbjQ0MjI1MTg4',\n",
       "   'avatar_url': 'https://avatars2.githubusercontent.com/u/44225188?v=4',\n",
       "   'gravatar_id': '',\n",
       "   'url': 'https://api.github.com/users/ironhack-datalabs',\n",
       "   'html_url': 'https://github.com/ironhack-datalabs',\n",
       "   'followers_url': 'https://api.github.com/users/ironhack-datalabs/followers',\n",
       "   'following_url': 'https://api.github.com/users/ironhack-datalabs/following{/other_user}',\n",
       "   'gists_url': 'https://api.github.com/users/ironhack-datalabs/gists{/gist_id}',\n",
       "   'starred_url': 'https://api.github.com/users/ironhack-datalabs/starred{/owner}{/repo}',\n",
       "   'subscriptions_url': 'https://api.github.com/users/ironhack-datalabs/subscriptions',\n",
       "   'organizations_url': 'https://api.github.com/users/ironhack-datalabs/orgs',\n",
       "   'repos_url': 'https://api.github.com/users/ironhack-datalabs/repos',\n",
       "   'events_url': 'https://api.github.com/users/ironhack-datalabs/events{/privacy}',\n",
       "   'received_events_url': 'https://api.github.com/users/ironhack-datalabs/received_events',\n",
       "   'type': 'Organization',\n",
       "   'site_admin': False},\n",
       "  'html_url': 'https://github.com/ironhack-datalabs/scavenger',\n",
       "  'description': None,\n",
       "  'fork': False,\n",
       "  'url': 'https://api.github.com/repos/ironhack-datalabs/scavenger',\n",
       "  'forks_url': 'https://api.github.com/repos/ironhack-datalabs/scavenger/forks',\n",
       "  'keys_url': 'https://api.github.com/repos/ironhack-datalabs/scavenger/keys{/key_id}',\n",
       "  'collaborators_url': 'https://api.github.com/repos/ironhack-datalabs/scavenger/collaborators{/collaborator}',\n",
       "  'teams_url': 'https://api.github.com/repos/ironhack-datalabs/scavenger/teams',\n",
       "  'hooks_url': 'https://api.github.com/repos/ironhack-datalabs/scavenger/hooks',\n",
       "  'issue_events_url': 'https://api.github.com/repos/ironhack-datalabs/scavenger/issues/events{/number}',\n",
       "  'events_url': 'https://api.github.com/repos/ironhack-datalabs/scavenger/events',\n",
       "  'assignees_url': 'https://api.github.com/repos/ironhack-datalabs/scavenger/assignees{/user}',\n",
       "  'branches_url': 'https://api.github.com/repos/ironhack-datalabs/scavenger/branches{/branch}',\n",
       "  'tags_url': 'https://api.github.com/repos/ironhack-datalabs/scavenger/tags',\n",
       "  'blobs_url': 'https://api.github.com/repos/ironhack-datalabs/scavenger/git/blobs{/sha}',\n",
       "  'git_tags_url': 'https://api.github.com/repos/ironhack-datalabs/scavenger/git/tags{/sha}',\n",
       "  'git_refs_url': 'https://api.github.com/repos/ironhack-datalabs/scavenger/git/refs{/sha}',\n",
       "  'trees_url': 'https://api.github.com/repos/ironhack-datalabs/scavenger/git/trees{/sha}',\n",
       "  'statuses_url': 'https://api.github.com/repos/ironhack-datalabs/scavenger/statuses/{sha}',\n",
       "  'languages_url': 'https://api.github.com/repos/ironhack-datalabs/scavenger/languages',\n",
       "  'stargazers_url': 'https://api.github.com/repos/ironhack-datalabs/scavenger/stargazers',\n",
       "  'contributors_url': 'https://api.github.com/repos/ironhack-datalabs/scavenger/contributors',\n",
       "  'subscribers_url': 'https://api.github.com/repos/ironhack-datalabs/scavenger/subscribers',\n",
       "  'subscription_url': 'https://api.github.com/repos/ironhack-datalabs/scavenger/subscription',\n",
       "  'commits_url': 'https://api.github.com/repos/ironhack-datalabs/scavenger/commits{/sha}',\n",
       "  'git_commits_url': 'https://api.github.com/repos/ironhack-datalabs/scavenger/git/commits{/sha}',\n",
       "  'comments_url': 'https://api.github.com/repos/ironhack-datalabs/scavenger/comments{/number}',\n",
       "  'issue_comment_url': 'https://api.github.com/repos/ironhack-datalabs/scavenger/issues/comments{/number}',\n",
       "  'contents_url': 'https://api.github.com/repos/ironhack-datalabs/scavenger/contents/{+path}',\n",
       "  'compare_url': 'https://api.github.com/repos/ironhack-datalabs/scavenger/compare/{base}...{head}',\n",
       "  'merges_url': 'https://api.github.com/repos/ironhack-datalabs/scavenger/merges',\n",
       "  'archive_url': 'https://api.github.com/repos/ironhack-datalabs/scavenger/{archive_format}{/ref}',\n",
       "  'downloads_url': 'https://api.github.com/repos/ironhack-datalabs/scavenger/downloads',\n",
       "  'issues_url': 'https://api.github.com/repos/ironhack-datalabs/scavenger/issues{/number}',\n",
       "  'pulls_url': 'https://api.github.com/repos/ironhack-datalabs/scavenger/pulls{/number}',\n",
       "  'milestones_url': 'https://api.github.com/repos/ironhack-datalabs/scavenger/milestones{/number}',\n",
       "  'notifications_url': 'https://api.github.com/repos/ironhack-datalabs/scavenger/notifications{?since,all,participating}',\n",
       "  'labels_url': 'https://api.github.com/repos/ironhack-datalabs/scavenger/labels{/name}',\n",
       "  'releases_url': 'https://api.github.com/repos/ironhack-datalabs/scavenger/releases{/id}',\n",
       "  'deployments_url': 'https://api.github.com/repos/ironhack-datalabs/scavenger/deployments'},\n",
       " 'score': 18.68678}"
      ]
     },
     "execution_count": 9,
     "metadata": {},
     "output_type": "execute_result"
    }
   ],
   "source": [
    "data[\"items\"][0]"
   ]
  },
  {
   "cell_type": "code",
   "execution_count": 22,
   "metadata": {},
   "outputs": [
    {
     "data": {
      "text/plain": [
       "'of'"
      ]
     },
     "execution_count": 22,
     "metadata": {},
     "output_type": "execute_result"
    }
   ],
   "source": [
    "import base64\n",
    "base64.b64decode(\"b2YK\\n\").decode(\"utf-8\").strip()"
   ]
  },
  {
   "cell_type": "code",
   "execution_count": 28,
   "metadata": {},
   "outputs": [
    {
     "name": "stdout",
     "output_type": "stream",
     "text": [
      "['98750/.0001.scavengerhunt', '88596/.0002.scavengerhunt', '60224/.0003.scavengerhunt']\n"
     ]
    },
    {
     "data": {
      "text/plain": [
       "['In\\n',\n",
       " 'data\\n',\n",
       " 'science,\\n',\n",
       " '80\\n',\n",
       " 'percent\\n',\n",
       " 'of\\n',\n",
       " 'time\\n',\n",
       " 'spent\\n',\n",
       " 'is\\n',\n",
       " 'preparing\\n',\n",
       " 'data,\\n',\n",
       " '20\\n',\n",
       " 'percent\\n',\n",
       " 'of\\n',\n",
       " 'time\\n',\n",
       " 'is\\n',\n",
       " 'spent\\n',\n",
       " 'complaining\\n',\n",
       " 'about\\n',\n",
       " 'the\\n',\n",
       " 'need\\n',\n",
       " 'to\\n',\n",
       " 'prepare\\n',\n",
       " 'data.\\n']"
      ]
     },
     "execution_count": 28,
     "metadata": {},
     "output_type": "execute_result"
    }
   ],
   "source": [
    "files = sorted([item[\"path\"] for item in data[\"items\"]], key=lambda e: e.split(\"/\")[1])\n",
    "print(files[:3])\n",
    "\n",
    "urls = [requests.get(f\"https://raw.githubusercontent.com/ironhack-datalabs/scavenger/master/{name}\").text\n",
    " for name in files]\n",
    "urls"
   ]
  },
  {
   "cell_type": "code",
   "execution_count": 30,
   "metadata": {},
   "outputs": [
    {
     "data": {
      "text/plain": [
       "'In data science, 80 percent of time spent is preparing data, 20 percent of time is spent complaining about the need to prepare data.'"
      ]
     },
     "execution_count": 30,
     "metadata": {},
     "output_type": "execute_result"
    }
   ],
   "source": [
    "' '.join([word.strip() for word in urls])\n",
    "\n"
   ]
  },
  {
   "cell_type": "code",
   "execution_count": null,
   "metadata": {},
   "outputs": [],
   "source": []
  }
 ],
 "metadata": {
  "kernelspec": {
   "display_name": "Python 3",
   "language": "python",
   "name": "python3"
  },
  "language_info": {
   "codemirror_mode": {
    "name": "ipython",
    "version": 3
   },
   "file_extension": ".py",
   "mimetype": "text/x-python",
   "name": "python",
   "nbconvert_exporter": "python",
   "pygments_lexer": "ipython3",
   "version": "3.7.5"
  }
 },
 "nbformat": 4,
 "nbformat_minor": 2
}
