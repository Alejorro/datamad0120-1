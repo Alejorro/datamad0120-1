{
 "cells": [
  {
   "cell_type": "code",
   "execution_count": 5,
   "metadata": {},
   "outputs": [
    {
     "data": {
      "text/plain": [
       "True"
      ]
     },
     "execution_count": 5,
     "metadata": {},
     "output_type": "execute_result"
    }
   ],
   "source": [
    "mando = {\n",
    "    \"pilas\":{\n",
    "        \"carga\":[25,50],\n",
    "        \"numpilas\":2,\n",
    "        \"tipo\":\"AAA\"\n",
    "    },\n",
    "    \"carga\":50,\n",
    "    \"color\":\"blanco\",\n",
    "    \"botones\":[\n",
    "        (\"volumen\",\"sube el volumen\")\n",
    "    ],\n",
    "}\n",
    "\n",
    "def enumeraCargaPilas(m):\n",
    "    return m[\"pilas\"][\"carga\"]\n",
    "\n",
    "\n",
    "\n",
    "enumeraCargaPilas(mando)\n"
   ]
  },
  {
   "cell_type": "code",
   "execution_count": 6,
   "metadata": {},
   "outputs": [
    {
     "data": {
      "text/plain": [
       "True"
      ]
     },
     "execution_count": 6,
     "metadata": {},
     "output_type": "execute_result"
    }
   ],
   "source": [
    "mando = {\n",
    "    \"pilas\":{\n",
    "        \"carga\":[25,50],\n",
    "        \"numpilas\":2,\n",
    "        \"tipo\":\"AAA\"\n",
    "    },\n",
    "    \"carga\":50,\n",
    "    \"color\":\"blanco\",\n",
    "    \"botones\":[\n",
    "        (\"volumen\",\"sube el volumen\")\n",
    "    ],\n",
    "}\n",
    "\n",
    "def funcionaMando(m):\n",
    "    for carga in m[\"pilas\"][\"carga\"]:\n",
    "        if carga < 10:\n",
    "            return False\n",
    "    return True\n",
    "funcionaMando(mando)"
   ]
  },
  {
   "cell_type": "code",
   "execution_count": 9,
   "metadata": {},
   "outputs": [
    {
     "data": {
      "text/plain": [
       "False"
      ]
     },
     "execution_count": 9,
     "metadata": {},
     "output_type": "execute_result"
    }
   ],
   "source": [
    "def funcionaMando(m):\n",
    "    for pila in m[\"pilas\"]:\n",
    "        if pila[\"carga\"] < 10:\n",
    "            return False\n",
    "    return True\n",
    "\n",
    "def generaPila(carga=100):\n",
    "    return {\"tipo\":\"AAA\", \"carga\":carga}\n",
    "\n",
    "def cambiaPilas(m):\n",
    "    if not funcionaMando(m):\n",
    "        m[\"pilas\"] = [ generaPila(), generaPila() ]\n",
    "    return m\n",
    "\n"
   ]
  },
  {
   "cell_type": "code",
   "execution_count": 15,
   "metadata": {},
   "outputs": [
    {
     "name": "stdout",
     "output_type": "stream",
     "text": [
      "{'pilas': [{'tipo': 'AAA', 'carga': 100}, {'tipo': 'AAA', 'carga': 100}], 'carga': 50, 'color': 'blanco', 'botones': [('volumen', 'sube el volumen')]}\n",
      "{'pilas': [{'tipo': 'AAA', 'carga': 100}, {'tipo': 'AAA', 'carga': 100}], 'carga': 50, 'color': 'blanco', 'botones': [('volumen', 'sube el volumen')]}\n"
     ]
    },
    {
     "data": {
      "text/plain": [
       "True"
      ]
     },
     "execution_count": 15,
     "metadata": {},
     "output_type": "execute_result"
    }
   ],
   "source": [
    "mando = {\n",
    "    \"pilas\":[\n",
    "        {\"tipo\":\"AAA\", \"carga\":50},\n",
    "        {\"tipo\":\"AA\", \"carga\":5},\n",
    "    ],\n",
    "    \"carga\":50,\n",
    "    \"color\":\"blanco\",\n",
    "    \"botones\":[\n",
    "        (\"volumen\",\"sube el volumen\")\n",
    "    ],\n",
    "}\n",
    "\n",
    "funcionaMando(mando)\n",
    "m2 = cambiaPilas(mando)\n",
    "\n",
    "print(mando)\n",
    "print(m2)\n",
    "\n",
    "m2 == mando"
   ]
  },
  {
   "cell_type": "code",
   "execution_count": 36,
   "metadata": {},
   "outputs": [
    {
     "name": "stdout",
     "output_type": "stream",
     "text": [
      "[{'tipo': 'AA', 'carga': 66}]\n",
      "[{'tipo': 'AAA', 'carga': 14}, {'tipo': 'AAA', 'carga': 14}]\n",
      "blanco\n"
     ]
    },
    {
     "data": {
      "text/plain": [
       "__main__.Mando"
      ]
     },
     "execution_count": 36,
     "metadata": {},
     "output_type": "execute_result"
    }
   ],
   "source": [
    "import random\n",
    "def generaPila(tipo):\n",
    "    return {\"tipo\":tipo, \"carga\":int(random.random()*100)}\n",
    "\n",
    "class Mando:\n",
    "    def __init__(self, numpilas=2,tipo=\"AAA\"):\n",
    "        self.pilas = [generaPila(tipo)] * numpilas\n",
    "        self.color = random.sample([\"blanco\",\"negro\"],1)[0]\n",
    "\n",
    "\n",
    "m1 = Mando(1,\"AA\")\n",
    "m2 = Mando()\n",
    "        \n",
    "    \n",
    "print(m1.pilas)\n",
    "print(m2.pilas)\n",
    "print(m2.color)\n",
    "\n",
    "type(m1)\n"
   ]
  },
  {
   "cell_type": "code",
   "execution_count": 84,
   "metadata": {},
   "outputs": [
    {
     "name": "stdout",
     "output_type": "stream",
     "text": [
      "------MANDO 0------\n",
      "[NoFunciona] Tipo:AAA Carga:1, Tipo:AAA Carga:1\n",
      "PilasCambiadas\n",
      "[Funciona] Tipo:AAA Carga:100, Tipo:AAA Carga:100\n",
      "------MANDO 1------\n",
      "[NoFunciona] Tipo:AAA Carga:1, Tipo:AAA Carga:1\n",
      "PilasCambiadas\n",
      "[Funciona] Tipo:AAA Carga:100, Tipo:AAA Carga:100\n",
      "------MANDO 2------\n",
      "[Funciona] Tipo:AAA Carga:89, Tipo:AAA Carga:89\n",
      "------MANDO 3------\n",
      "[Funciona] Tipo:AAA Carga:95, Tipo:AAA Carga:95\n",
      "------MANDO 4------\n",
      "[Funciona] Tipo:AAA Carga:73, Tipo:AAA Carga:73\n"
     ]
    }
   ],
   "source": [
    "import random\n",
    "\n",
    "def generaPila(tipo, carga=None):\n",
    "    if carga:\n",
    "        return {\"tipo\":tipo, \"carga\":carga}\n",
    "    return {\"tipo\":tipo, \"carga\":int(random.random()*100)}\n",
    "\n",
    "\n",
    "class Mando:\n",
    "    def __init__(self, numpilas=2,tipo=\"AAA\"):\n",
    "        self.numpilas = numpilas\n",
    "        self.tipo = tipo\n",
    "        self.pilas = [generaPila(tipo)] * self.numpilas\n",
    "        self.color = random.sample([\"blanco\",\"negro\"],1)[0]\n",
    "\n",
    "    def cambiaPilas(self):\n",
    "        self.pilas = [generaPila(self.tipo, 100)] * self.numpilas\n",
    "        \n",
    "    def mandoFunciona(self):\n",
    "        for pila in self.pilas:\n",
    "            if pila[\"carga\"] < 10:\n",
    "                return False\n",
    "        return True\n",
    "    \n",
    "    def describeFunciona(self):\n",
    "        if self.mandoFunciona():\n",
    "            return \"[Funciona]\"\n",
    "        else:\n",
    "            return \"[NoFunciona]\"\n",
    "    \n",
    "    def describePilas(self):\n",
    "        s = [f'Tipo:{e[\"tipo\"]} Carga:{e[\"carga\"]}' for e in self.pilas]\n",
    "        return ', '.join(s)\n",
    "    \n",
    "    def describeme(self):\n",
    "        print(self.describeFunciona(), self.describePilas())\n",
    "\n",
    "    \n",
    "for i in range(5):\n",
    "    print(f\"------MANDO {i}------\")\n",
    "    m = Mando()\n",
    "    m.describeme()\n",
    "    if not m.mandoFunciona():\n",
    "        m.cambiaPilas()\n",
    "        print(\"PilasCambiadas\")\n",
    "        m.describeme()"
   ]
  },
  {
   "cell_type": "code",
   "execution_count": null,
   "metadata": {},
   "outputs": [],
   "source": []
  },
  {
   "cell_type": "code",
   "execution_count": null,
   "metadata": {},
   "outputs": [],
   "source": []
  }
 ],
 "metadata": {
  "kernelspec": {
   "display_name": "Python 3",
   "language": "python",
   "name": "python3"
  },
  "language_info": {
   "codemirror_mode": {
    "name": "ipython",
    "version": 3
   },
   "file_extension": ".py",
   "mimetype": "text/x-python",
   "name": "python",
   "nbconvert_exporter": "python",
   "pygments_lexer": "ipython3",
   "version": "3.7.5"
  }
 },
 "nbformat": 4,
 "nbformat_minor": 2
}
