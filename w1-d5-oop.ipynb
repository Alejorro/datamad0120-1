{
 "cells": [
  {
   "cell_type": "code",
   "execution_count": 5,
   "metadata": {},
   "outputs": [
    {
     "data": {
      "text/plain": [
       "True"
      ]
     },
     "execution_count": 5,
     "metadata": {},
     "output_type": "execute_result"
    }
   ],
   "source": [
    "mando = {\n",
    "    \"pilas\":{\n",
    "        \"carga\":[25,50],\n",
    "        \"numpilas\":2,\n",
    "        \"tipo\":\"AAA\"\n",
    "    },\n",
    "    \"carga\":50,\n",
    "    \"color\":\"blanco\",\n",
    "    \"botones\":[\n",
    "        (\"volumen\",\"sube el volumen\")\n",
    "    ],\n",
    "}\n",
    "\n",
    "def enumeraCargaPilas(m):\n",
    "    return m[\"pilas\"][\"carga\"]\n",
    "\n",
    "\n",
    "\n",
    "enumeraCargaPilas(mando)\n"
   ]
  },
  {
   "cell_type": "code",
   "execution_count": 6,
   "metadata": {},
   "outputs": [
    {
     "data": {
      "text/plain": [
       "True"
      ]
     },
     "execution_count": 6,
     "metadata": {},
     "output_type": "execute_result"
    }
   ],
   "source": [
    "mando = {\n",
    "    \"pilas\":{\n",
    "        \"carga\":[25,50],\n",
    "        \"numpilas\":2,\n",
    "        \"tipo\":\"AAA\"\n",
    "    },\n",
    "    \"carga\":50,\n",
    "    \"color\":\"blanco\",\n",
    "    \"botones\":[\n",
    "        (\"volumen\",\"sube el volumen\")\n",
    "    ],\n",
    "}\n",
    "\n",
    "def funcionaMando(m):\n",
    "    for carga in m[\"pilas\"][\"carga\"]:\n",
    "        if carga < 10:\n",
    "            return False\n",
    "    return True\n",
    "funcionaMando(mando)"
   ]
  },
  {
   "cell_type": "code",
   "execution_count": 9,
   "metadata": {},
   "outputs": [
    {
     "data": {
      "text/plain": [
       "False"
      ]
     },
     "execution_count": 9,
     "metadata": {},
     "output_type": "execute_result"
    }
   ],
   "source": [
    "def funcionaMando(m):\n",
    "    for pila in m[\"pilas\"]:\n",
    "        if pila[\"carga\"] < 10:\n",
    "            return False\n",
    "    return True\n",
    "\n",
    "def generaPila(carga=100):\n",
    "    return {\"tipo\":\"AAA\", \"carga\":carga}\n",
    "\n",
    "def cambiaPilas(m):\n",
    "    if not funcionaMando(m):\n",
    "        m[\"pilas\"] = [ generaPila(), generaPila() ]\n",
    "    return m\n",
    "\n"
   ]
  },
  {
   "cell_type": "code",
   "execution_count": 15,
   "metadata": {},
   "outputs": [
    {
     "name": "stdout",
     "output_type": "stream",
     "text": [
      "{'pilas': [{'tipo': 'AAA', 'carga': 100}, {'tipo': 'AAA', 'carga': 100}], 'carga': 50, 'color': 'blanco', 'botones': [('volumen', 'sube el volumen')]}\n",
      "{'pilas': [{'tipo': 'AAA', 'carga': 100}, {'tipo': 'AAA', 'carga': 100}], 'carga': 50, 'color': 'blanco', 'botones': [('volumen', 'sube el volumen')]}\n"
     ]
    },
    {
     "data": {
      "text/plain": [
       "True"
      ]
     },
     "execution_count": 15,
     "metadata": {},
     "output_type": "execute_result"
    }
   ],
   "source": [
    "mando = {\n",
    "    \"pilas\":[\n",
    "        {\"tipo\":\"AAA\", \"carga\":50},\n",
    "        {\"tipo\":\"AA\", \"carga\":5},\n",
    "    ],\n",
    "    \"carga\":50,\n",
    "    \"color\":\"blanco\",\n",
    "    \"botones\":[\n",
    "        (\"volumen\",\"sube el volumen\")\n",
    "    ],\n",
    "}\n",
    "\n",
    "funcionaMando(mando)\n",
    "m2 = cambiaPilas(mando)\n",
    "\n",
    "print(mando)\n",
    "print(m2)\n",
    "\n",
    "m2 == mando"
   ]
  },
  {
   "cell_type": "code",
   "execution_count": 36,
   "metadata": {},
   "outputs": [
    {
     "name": "stdout",
     "output_type": "stream",
     "text": [
      "[{'tipo': 'AA', 'carga': 66}]\n",
      "[{'tipo': 'AAA', 'carga': 14}, {'tipo': 'AAA', 'carga': 14}]\n",
      "blanco\n"
     ]
    },
    {
     "data": {
      "text/plain": [
       "__main__.Mando"
      ]
     },
     "execution_count": 36,
     "metadata": {},
     "output_type": "execute_result"
    }
   ],
   "source": [
    "import random\n",
    "def generaPila(tipo):\n",
    "    return {\"tipo\":tipo, \"carga\":int(random.random()*100)}\n",
    "\n",
    "class Mando:\n",
    "    def __init__(self, numpilas=2,tipo=\"AAA\"):\n",
    "        self.pilas = [generaPila(tipo)] * numpilas\n",
    "        self.color = random.sample([\"blanco\",\"negro\"],1)[0]\n",
    "\n",
    "\n",
    "m1 = Mando(1,\"AA\")\n",
    "m2 = Mando()\n",
    "        \n",
    "    \n",
    "print(m1.pilas)\n",
    "print(m2.pilas)\n",
    "print(m2.color)\n",
    "\n",
    "type(m1)\n"
   ]
  },
  {
   "cell_type": "code",
   "execution_count": 84,
   "metadata": {},
   "outputs": [
    {
     "name": "stdout",
     "output_type": "stream",
     "text": [
      "------MANDO 0------\n",
      "[NoFunciona] Tipo:AAA Carga:1, Tipo:AAA Carga:1\n",
      "PilasCambiadas\n",
      "[Funciona] Tipo:AAA Carga:100, Tipo:AAA Carga:100\n",
      "------MANDO 1------\n",
      "[NoFunciona] Tipo:AAA Carga:1, Tipo:AAA Carga:1\n",
      "PilasCambiadas\n",
      "[Funciona] Tipo:AAA Carga:100, Tipo:AAA Carga:100\n",
      "------MANDO 2------\n",
      "[Funciona] Tipo:AAA Carga:89, Tipo:AAA Carga:89\n",
      "------MANDO 3------\n",
      "[Funciona] Tipo:AAA Carga:95, Tipo:AAA Carga:95\n",
      "------MANDO 4------\n",
      "[Funciona] Tipo:AAA Carga:73, Tipo:AAA Carga:73\n"
     ]
    }
   ],
   "source": [
    "import random\n",
    "\n",
    "def generaPila(tipo, carga=None):\n",
    "    if carga:\n",
    "        return {\"tipo\":tipo, \"carga\":carga}\n",
    "    return {\"tipo\":tipo, \"carga\":int(random.random()*100)}\n",
    "\n",
    "\n",
    "class Mando:\n",
    "    def __init__(self, numpilas=2,tipo=\"AAA\"):\n",
    "        self.numpilas = numpilas\n",
    "        self.tipo = tipo\n",
    "        self.pilas = [generaPila(tipo)] * self.numpilas\n",
    "        self.color = random.sample([\"blanco\",\"negro\"],1)[0]\n",
    "\n",
    "    def cambiaPilas(self):\n",
    "        self.pilas = [generaPila(self.tipo, 100)] * self.numpilas\n",
    "        \n",
    "    def mandoFunciona(self):\n",
    "        for pila in self.pilas:\n",
    "            if pila[\"carga\"] < 10:\n",
    "                return False\n",
    "        return True\n",
    "    \n",
    "    def describeFunciona(self):\n",
    "        if self.mandoFunciona():\n",
    "            return \"[Funciona]\"\n",
    "        else:\n",
    "            return \"[NoFunciona]\"\n",
    "    \n",
    "    def describePilas(self):\n",
    "        s = [f'Tipo:{e[\"tipo\"]} Carga:{e[\"carga\"]}' for e in self.pilas]\n",
    "        return ', '.join(s)\n",
    "    \n",
    "    def describeme(self):\n",
    "        print(self.describeFunciona(), self.describePilas())\n",
    "\n",
    "    \n",
    "for i in range(5):\n",
    "    print(f\"------MANDO {i}------\")\n",
    "    m = Mando()\n",
    "    m.describeme()\n",
    "    if not m.mandoFunciona():\n",
    "        m.cambiaPilas()\n",
    "        print(\"PilasCambiadas\")\n",
    "        m.describeme()"
   ]
  },
  {
   "cell_type": "code",
   "execution_count": 104,
   "metadata": {},
   "outputs": [
    {
     "name": "stdout",
     "output_type": "stream",
     "text": [
      "Constructor hijo\n",
      "Constructor padre\n",
      "Constructor padre\n",
      "nosound,nosound,nosound\n",
      "guau,guau,guau\n"
     ]
    }
   ],
   "source": [
    "# https://www.journaldev.com/15911/python-super\n",
    "\n",
    "class Animal:\n",
    "    def __init__(self,name,sound=\"nosound\"):\n",
    "        print(\"Constructor padre\")\n",
    "        self.sound = sound\n",
    "        self.name = name\n",
    "    \n",
    "    def habla(self):\n",
    "        print(','.join([self.sound]*3))\n",
    "\n",
    "\n",
    "class Gato(Animal):\n",
    "    def __init__(self,name):\n",
    "        print(\"Constructor hijo\")\n",
    "        super().__init__(name)\n",
    "\n",
    "a = Gato(\"Garfield\")\n",
    "b = Animal(\"Pluto\",\"guau\")\n",
    "\n",
    "a.habla()\n",
    "b.habla()"
   ]
  },
  {
   "cell_type": "code",
   "execution_count": 105,
   "metadata": {},
   "outputs": [
    {
     "name": "stdout",
     "output_type": "stream",
     "text": [
      "<class '__main__.Gato'> <class '__main__.Animal'>\n"
     ]
    },
    {
     "data": {
      "text/plain": [
       "True"
      ]
     },
     "execution_count": 105,
     "metadata": {},
     "output_type": "execute_result"
    }
   ],
   "source": [
    "print(type(a),type(b))\n",
    "isinstance(a,Animal)"
   ]
  },
  {
   "cell_type": "code",
   "execution_count": 106,
   "metadata": {},
   "outputs": [
    {
     "name": "stdout",
     "output_type": "stream",
     "text": [
      "Constructor hijo\n",
      "Constructor padre\n",
      "Garfield\n"
     ]
    }
   ],
   "source": [
    "a = Gato(\"Garfield\")\n",
    "print(a.name)"
   ]
  },
  {
   "cell_type": "code",
   "execution_count": 115,
   "metadata": {},
   "outputs": [
    {
     "name": "stdout",
     "output_type": "stream",
     "text": [
      "Miau,Miau,Miau\n",
      "Miau,Miau,Miau\n"
     ]
    }
   ],
   "source": [
    "class Animal:\n",
    "    def __init__(self,name,sound=\"nosound\"):\n",
    "        self.sound = sound\n",
    "        self.name = name\n",
    "    \n",
    "    def habla(self):\n",
    "        print(','.join([self.sound]*3))\n",
    "\n",
    "\n",
    "class Gato(Animal):\n",
    "    def __init__(self,name):\n",
    "        super().__init__(name, \"Miau\")\n",
    "    \n",
    "    def habla(self):\n",
    "        super().habla()\n",
    "        super().habla()\n",
    "            \n",
    "        \n",
    "g = Gato(\"Garfield\")\n",
    "g.habla()"
   ]
  },
  {
   "cell_type": "code",
   "execution_count": 119,
   "metadata": {},
   "outputs": [
    {
     "name": "stdout",
     "output_type": "stream",
     "text": [
      "<__main__.Gato object at 0x109a65050>\n",
      "[1, 2, 3, 4, 5, 3]\n"
     ]
    }
   ],
   "source": [
    "a = [1,2,3,4,5]\n",
    "a.append(3)\n",
    "print(g)\n",
    "print(a)"
   ]
  },
  {
   "cell_type": "code",
   "execution_count": 121,
   "metadata": {},
   "outputs": [
    {
     "name": "stdout",
     "output_type": "stream",
     "text": [
      "pepe\n"
     ]
    }
   ],
   "source": [
    "class Persona:\n",
    "    def __init__(self,name):\n",
    "        self.name = name\n",
    "     \n",
    "    def __repr__(self):\n",
    "        return self.name\n",
    "        \n",
    "p = Persona(\"pepe\")\n",
    "\n",
    "print(p)"
   ]
  },
  {
   "cell_type": "code",
   "execution_count": 122,
   "metadata": {},
   "outputs": [
    {
     "data": {
      "text/plain": [
       "<generator object a at 0x109a661d0>"
      ]
     },
     "execution_count": 122,
     "metadata": {},
     "output_type": "execute_result"
    }
   ],
   "source": [
    "def a():\n",
    "    for i in range(5):\n",
    "        yield\n",
    "\n",
    "a()"
   ]
  },
  {
   "cell_type": "code",
   "execution_count": 130,
   "metadata": {},
   "outputs": [
    {
     "name": "stdout",
     "output_type": "stream",
     "text": [
      "33\n",
      "Hola\n",
      "33\n"
     ]
    }
   ],
   "source": [
    "class Persona:\n",
    "    pepe = 33\n",
    "    \n",
    "\n",
    "p1 = Persona()\n",
    "p2 = Persona()\n",
    "\n",
    "print(p1.pepe)\n",
    "p1.pepe = \"Hola\"\n",
    "print(p1.pepe)\n",
    "print(p2.pepe)"
   ]
  },
  {
   "cell_type": "code",
   "execution_count": 145,
   "metadata": {},
   "outputs": [
    {
     "name": "stdout",
     "output_type": "stream",
     "text": [
      "False\n"
     ]
    }
   ],
   "source": [
    "class Pila:\n",
    "    carga = random.random()*100\n",
    "    tipo = \"AAA\"\n",
    "    def __repr__(self):\n",
    "        return f\"[{self.tipo}-{int(self.carga)}%]\"\n",
    "\n",
    "class Mando:\n",
    "    pilas = [Pila(),Pila()]\n",
    "    \n",
    "m = Mando()\n",
    "print(m.pilas[0] == m.pilas[1])"
   ]
  },
  {
   "cell_type": "code",
   "execution_count": 152,
   "metadata": {},
   "outputs": [
    {
     "name": "stdout",
     "output_type": "stream",
     "text": [
      "33\n",
      "{'pepe': 33}\n"
     ]
    }
   ],
   "source": [
    "class B:\n",
    "    pass\n",
    "\n",
    "\n",
    "z = B()\n",
    "z.pepe = 33\n",
    "\n",
    "print(z.pepe)\n",
    "print(z.__dict__)"
   ]
  },
  {
   "cell_type": "code",
   "execution_count": 162,
   "metadata": {},
   "outputs": [
    {
     "data": {
      "text/plain": [
       "True"
      ]
     },
     "execution_count": 162,
     "metadata": {},
     "output_type": "execute_result"
    }
   ],
   "source": [
    "\n",
    "def a():\n",
    "    return 3\n",
    "\n",
    "isinstance(a,object)"
   ]
  },
  {
   "cell_type": "code",
   "execution_count": null,
   "metadata": {},
   "outputs": [],
   "source": []
  }
 ],
 "metadata": {
  "kernelspec": {
   "display_name": "Python 3",
   "language": "python",
   "name": "python3"
  },
  "language_info": {
   "codemirror_mode": {
    "name": "ipython",
    "version": 3
   },
   "file_extension": ".py",
   "mimetype": "text/x-python",
   "name": "python",
   "nbconvert_exporter": "python",
   "pygments_lexer": "ipython3",
   "version": "3.7.5"
  }
 },
 "nbformat": 4,
 "nbformat_minor": 2
}
