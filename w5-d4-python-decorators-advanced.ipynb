{
 "cells": [
  {
   "cell_type": "code",
   "execution_count": 39,
   "metadata": {},
   "outputs": [],
   "source": [
    "import random\n",
    "\n",
    "def radioOle(tipo):\n",
    "    def decorator(fn):\n",
    "        def rosaliaWrapper(*args,**kwargs):\n",
    "            frase = random.choice([\"con altura\",\"tra tra\",\"malamente\"])\n",
    "            return frase + \" \" + str(fn(*args,**kwargs))\n",
    "\n",
    "        def pitbullWrapper(*args,**kwargs):\n",
    "            frase = random.choice([\"dale\",\"mr worldwide\",\"1,2,3,4\",\"mami\"])\n",
    "            return frase + \" \" + str(fn(*args,**kwargs))\n",
    "\n",
    "        return rosaliaWrapper if tipo == \"Rosalia\" else pitbullWrapper\n",
    "      \n",
    "    return decorator"
   ]
  },
  {
   "cell_type": "code",
   "execution_count": 42,
   "metadata": {},
   "outputs": [
    {
     "data": {
      "text/plain": [
       "'tra tra Pepe'"
      ]
     },
     "execution_count": 42,
     "metadata": {},
     "output_type": "execute_result"
    }
   ],
   "source": [
    "@radioOle(\"Rosalia\") # decorador con parametros\n",
    "def randomName():\n",
    "    return random.choice([\"Luis\",\"Juan\",\"Pepe\",\"Fran\"])\n",
    "\n",
    "randomName()"
   ]
  },
  {
   "cell_type": "code",
   "execution_count": null,
   "metadata": {},
   "outputs": [],
   "source": []
  },
  {
   "cell_type": "code",
   "execution_count": null,
   "metadata": {},
   "outputs": [],
   "source": []
  },
  {
   "cell_type": "code",
   "execution_count": 45,
   "metadata": {},
   "outputs": [
    {
     "name": "stdout",
     "output_type": "stream",
     "text": [
      "Calculando nota....\n",
      "{(1, 2, 3, 4, 5, 6): 91}\n",
      "Returning precalculated data\n",
      "{(1, 2, 3, 4, 5, 6): 91}\n",
      "Calculando nota....\n",
      "{(1, 2, 3, 4, 5, 6): 91, (1, 2, 3, 4, 5, 2): 59}\n"
     ]
    }
   ],
   "source": [
    "previous = dict()\n",
    "\n",
    "def remember(fn):\n",
    "    def wrapper(*args):\n",
    "        if args in previous:\n",
    "            print(\"Returning precalculated data\")\n",
    "            return previous[args]\n",
    "        data = fn(*args)\n",
    "        previous[args] = data\n",
    "        return data\n",
    "    return wrapper\n",
    "\n",
    "\n",
    "@remember\n",
    "def calculaNota(*args):\n",
    "    print(\"Calculando nota....\")\n",
    "    return sum([e**2 for e in args])\n",
    "\n",
    "calculaNota(1,2,3,4,5,6)\n",
    "print(previous)\n",
    "calculaNota(1,2,3,4,5,6)\n",
    "print(previous)\n",
    "\n",
    "calculaNota(1,2,3,4,5,2)\n",
    "print(previous)\n"
   ]
  },
  {
   "cell_type": "code",
   "execution_count": 46,
   "metadata": {},
   "outputs": [
    {
     "name": "stdout",
     "output_type": "stream",
     "text": [
      "Calculando nota....\n",
      "{(1, 2, 3): 14}\n",
      "Calculando nota....\n",
      "{(1, 2, 3): 14, (1, 2, 4): 21}\n",
      "Returning precalculated data\n",
      "{(1, 2, 3): 14, (1, 2, 4): 21}\n",
      "Returning precalculated data\n",
      "{(1, 2, 3): 14, (1, 2, 4): 21}\n"
     ]
    }
   ],
   "source": [
    "previous = dict()\n",
    "def rememberLast(last=2):\n",
    "    def decorator(fn):\n",
    "        def wrapper(*args):\n",
    "            if args in previous:\n",
    "                print(\"Returning precalculated data\")\n",
    "                return previous[args]\n",
    "            data = fn(*args)\n",
    "            \n",
    "            if len(previous) >= last:\n",
    "                firstElementKey = list(previous.items())[0][0]\n",
    "                del previous[firstElementKey]\n",
    "            previous[args] = data\n",
    "            \n",
    "            return data\n",
    "        return wrapper\n",
    "    return decorator\n",
    "\n",
    "@rememberLast(2)\n",
    "def calculaNota(*args):\n",
    "    print(\"Calculando nota....\")\n",
    "    return sum([e**2 for e in args])\n",
    "\n",
    "calculaNota(1,2,3); print(previous)\n",
    "calculaNota(1,2,4); print(previous)\n",
    "calculaNota(1,2,3); print(previous)\n",
    "calculaNota(1,2,4); print(previous)\n"
   ]
  },
  {
   "cell_type": "code",
   "execution_count": null,
   "metadata": {},
   "outputs": [],
   "source": []
  }
 ],
 "metadata": {
  "kernelspec": {
   "display_name": "Python 3",
   "language": "python",
   "name": "python3"
  },
  "language_info": {
   "codemirror_mode": {
    "name": "ipython",
    "version": 3
   },
   "file_extension": ".py",
   "mimetype": "text/x-python",
   "name": "python",
   "nbconvert_exporter": "python",
   "pygments_lexer": "ipython3",
   "version": "3.7.5"
  }
 },
 "nbformat": 4,
 "nbformat_minor": 2
}
