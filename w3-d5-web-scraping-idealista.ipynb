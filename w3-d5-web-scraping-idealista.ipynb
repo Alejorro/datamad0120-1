{
 "cells": [
  {
   "cell_type": "code",
   "execution_count": 1,
   "metadata": {},
   "outputs": [],
   "source": [
    "import requests\n",
    "from bs4 import BeautifulSoup\n",
    "\n",
    "res = requests.get(\"https://www.idealista.com/es/venta-viviendas/madrid/arganzuela/legazpi/\")\n",
    "soup = BeautifulSoup(res.text, 'html.parser')"
   ]
  },
  {
   "cell_type": "code",
   "execution_count": 5,
   "metadata": {},
   "outputs": [
    {
     "data": {
      "text/plain": [
       "<!DOCTYPE html>\n",
       "<html lang=\"es\"><head> <meta charset=\"utf-8\"/> <meta content=\"width=device-width, initial-scale=1\" name=\"viewport\"/> <title>idealista.com : pisos madrid, pisos barcelona, pisos valencia. inmobiliarias venta, alquiler y obra nueva</title> <link href=\"https://fonts.googleapis.com/css?family=Open+Sans:300\" rel=\"stylesheet\"/> <style>html, body{margin: 0; padding: 0; font-family: 'Open Sans', sans-serif; color: #000;}a{color: #c5c5c5; text-decoration: none;}.container{align-items: center; display: flex; flex: 1; justify-content: space-between; flex-direction: column; height: 100%;}.container>div{width: 100%; display: flex; justify-content: center;}.container>div>div{display: flex; width: 80%;}.customer-logo-wrapper{padding-top: 2rem; flex-grow: 0; background-color: #fff; visibility: visible;}.customer-logo{border-bottom: 1px solid #000;}.customer-logo>img{padding-bottom: 1rem; max-height: 50px; max-width: auto;}.page-title-wrapper{flex-grow: 2;}.page-title{flex-direction: column-reverse;}.content-wrapper{flex-grow: 5;}.content{flex-direction: column;}.page-footer-wrapper{align-items: center; flex-grow: 0.2; background-color: #000; color: #c5c5c5; font-size: 70%;}@media (min-width:768px){html, body{height: 100%;}}</style></head><body> <section class=\"container\"> <div class=\"customer-logo-wrapper\"> <div class=\"customer-logo\"> <img alt=\"Logo\" src=\"https://st1.idealista.com/static/common/img/icons/logo4.png\"/> </div></div><div class=\"page-title-wrapper\"> <div class=\"page-title\"> <h1></h1> </div></div><div class=\"content-wrapper\"> <div class=\"content\"> <p>Vaya! parece que estamos recibiendo muchas peticiones tuyas en poco tiempo <br/>Para ver que realmente eres tú y no un maligno robot, te pedimos que hagas la siguiente validación:</p><div id=\"px-captcha\"> </div><p> Un saludo,<br/>El equipo de idealista</p><p> Reference ID: #2468d540-4356-11ea-afd7-55cf7c19379b </p><p>¿No consigues pasar de aquí?<br/>Atención personalizada <strong>902 55 98 58</strong><br/>Coste de una llamada provincial<br/>Lunes a Viernes de 9:00 a 21:00</p><p id=\"copyright\">Copyright © 2000-<span id=\"year\"></span> idealista</p></div></div><div class=\"page-footer-wrapper\"> <div class=\"page-footer\"> <p> Powered by <a href=\"https://www.perimeterx.com\">PerimeterX</a> , Inc. </p></div></div></section> <script>window._pxAppId='PXm4C135aU'; window._pxJsClientSrc='/m4C135aU/init.js'; window._pxFirstPartyEnabled= false ; window._pxVid=''; window._pxUuid='2468d540-4356-11ea-afd7-55cf7c19379b'; window._pxHostUrl='/m4C135aU/xhr'; window._pxreCaptchaTheme='dark'; </script> <script>var s=document.createElement('script'); s.src='/m4C135aU/captcha/captcha.js?a=c&u=2468d540-4356-11ea-afd7-55cf7c19379b&v=&m=0'; var p=document.getElementsByTagName('head')[0]; p.insertBefore(s, null); if ( false ){s.onerror=function(){s=document.createElement('script'); var suffixIndex='/m4C135aU/captcha/captcha.js?a=c&u=2468d540-4356-11ea-afd7-55cf7c19379b&v=&m=0'.indexOf('/captcha.js'); var temperedBlockScript='/m4C135aU/captcha/captcha.js?a=c&u=2468d540-4356-11ea-afd7-55cf7c19379b&v=&m=0'.substring(suffixIndex); s.src='//captcha.px-cdn.net/PXm4C135aU' + temperedBlockScript; p.parentNode.insertBefore(s, p);};}</script> <script>document.getElementById(\"year\").innerHTML=new Date().getFullYear(); </script> <script type=\"text/javascript\">var utag_data={\"response\":{\"isError\":\"1\", \"statusCode\":\"403\", \"loadBalancer\":\"captcha\", \"errorTemplate\":\"blockingPage\" }}</script> <script type=\"text/javascript\">(function(a,b,c,d){a='//tags.tiqcdn.com/utag/idealista/es-portal/prod/utag.js'; b=document;c='script';d=b.createElement(c);d.src=a;d.type='text/java'+c;d.async=true; a=b.getElementsByTagName(c)[0];a.parentNode.insertBefore(d,a);})(); </script></body></html>"
      ]
     },
     "execution_count": 5,
     "metadata": {},
     "output_type": "execute_result"
    }
   ],
   "source": [
    "soup"
   ]
  },
  {
   "cell_type": "code",
   "execution_count": 4,
   "metadata": {},
   "outputs": [
    {
     "data": {
      "text/plain": [
       "[<a href=\"https://www.perimeterx.com\">PerimeterX</a>]"
      ]
     },
     "execution_count": 4,
     "metadata": {},
     "output_type": "execute_result"
    }
   ],
   "source": [
    "soup.select(\"a\")"
   ]
  },
  {
   "cell_type": "code",
   "execution_count": null,
   "metadata": {},
   "outputs": [],
   "source": []
  }
 ],
 "metadata": {
  "kernelspec": {
   "display_name": "Python 3",
   "language": "python",
   "name": "python3"
  },
  "language_info": {
   "codemirror_mode": {
    "name": "ipython",
    "version": 3
   },
   "file_extension": ".py",
   "mimetype": "text/x-python",
   "name": "python",
   "nbconvert_exporter": "python",
   "pygments_lexer": "ipython3",
   "version": "3.7.5"
  }
 },
 "nbformat": 4,
 "nbformat_minor": 2
}
