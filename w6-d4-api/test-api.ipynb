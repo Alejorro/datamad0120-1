{
 "cells": [
  {
   "cell_type": "code",
   "execution_count": 2,
   "metadata": {},
   "outputs": [
    {
     "data": {
      "text/plain": [
       "{'_id': {'$oid': '5e3d43d1fb11168491ef7726'},\n",
       " 'name': 'Facebook',\n",
       " 'category_code': 'social',\n",
       " 'description': 'Europe HQ',\n",
       " 'address1': '',\n",
       " 'address2': '',\n",
       " 'zip_code': '',\n",
       " 'city': 'Dublin',\n",
       " 'state_code': None,\n",
       " 'country_code': 'IRL',\n",
       " 'location': {'type': 'Point', 'coordinates': [-6.267494, 53.344104]}}"
      ]
     },
     "execution_count": 2,
     "metadata": {},
     "output_type": "execute_result"
    }
   ],
   "source": [
    "import requests\n",
    "\n",
    "requests.get(\"http://localhost:5000/company/face\").json()"
   ]
  },
  {
   "cell_type": "code",
   "execution_count": null,
   "metadata": {},
   "outputs": [],
   "source": []
  }
 ],
 "metadata": {
  "kernelspec": {
   "display_name": "Python 3",
   "language": "python",
   "name": "python3"
  },
  "language_info": {
   "codemirror_mode": {
    "name": "ipython",
    "version": 3
   },
   "file_extension": ".py",
   "mimetype": "text/x-python",
   "name": "python",
   "nbconvert_exporter": "python",
   "pygments_lexer": "ipython3",
   "version": "3.7.5"
  }
 },
 "nbformat": 4,
 "nbformat_minor": 2
}
