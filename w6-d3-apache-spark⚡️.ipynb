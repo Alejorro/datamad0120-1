{
 "cells": [
  {
   "cell_type": "code",
   "execution_count": 1,
   "metadata": {},
   "outputs": [],
   "source": [
    "# MORE -> https://github.com/boyander/datamad-1019/blob/master/w7-d5-spark-intro/spark-intro.ipynb\n",
    "\n",
    "# After running this cell, check http://localhost:4040 (spark dashboard)\n",
    "# and you will see apache spark running.\n",
    "from pyspark import SparkContext \n",
    "sc = SparkContext.getOrCreate()"
   ]
  },
  {
   "cell_type": "code",
   "execution_count": 5,
   "metadata": {},
   "outputs": [
    {
     "name": "stdout",
     "output_type": "stream",
     "text": [
      "3.143292\n"
     ]
    }
   ],
   "source": [
    "import random\n",
    "num_samples = 1000000\n",
    "\n",
    "# This function will be parallelized using spark\n",
    "def inside(p):     \n",
    "  x, y = random.random(), random.random()\n",
    "  return x*x + y*y < 1\n",
    "\n",
    "\n",
    "count = sc.parallelize(range(0, num_samples)).filter(inside).count()\n",
    "pi = 4 * count / num_samples\n",
    "print(pi)"
   ]
  },
  {
   "cell_type": "code",
   "execution_count": 17,
   "metadata": {},
   "outputs": [
    {
     "name": "stdout",
     "output_type": "stream",
     "text": [
      "<class 'pyspark.sql.dataframe.DataFrame'>\n",
      "+----------+--------+-----------+-------------+\n",
      "|      Date|    Time|Transaction|         Item|\n",
      "+----------+--------+-----------+-------------+\n",
      "|2016-10-30|09:58:11|          1|        Bread|\n",
      "|2016-10-30|10:05:34|          2| Scandinavian|\n",
      "|2016-10-30|10:05:34|          2| Scandinavian|\n",
      "|2016-10-30|10:07:57|          3|Hot chocolate|\n",
      "|2016-10-30|10:07:57|          3|          Jam|\n",
      "|2016-10-30|10:07:57|          3|      Cookies|\n",
      "|2016-10-30|10:08:41|          4|       Muffin|\n",
      "|2016-10-30|10:13:03|          5|       Coffee|\n",
      "|2016-10-30|10:13:03|          5|       Pastry|\n",
      "|2016-10-30|10:13:03|          5|        Bread|\n",
      "|2016-10-30|10:16:55|          6|    Medialuna|\n",
      "|2016-10-30|10:16:55|          6|       Pastry|\n",
      "|2016-10-30|10:16:55|          6|       Muffin|\n",
      "|2016-10-30|10:19:12|          7|    Medialuna|\n",
      "|2016-10-30|10:19:12|          7|       Pastry|\n",
      "|2016-10-30|10:19:12|          7|       Coffee|\n",
      "|2016-10-30|10:19:12|          7|          Tea|\n",
      "|2016-10-30|10:20:51|          8|       Pastry|\n",
      "|2016-10-30|10:20:51|          8|        Bread|\n",
      "|2016-10-30|10:21:59|          9|        Bread|\n",
      "+----------+--------+-----------+-------------+\n",
      "only showing top 20 rows\n",
      "\n"
     ]
    }
   ],
   "source": [
    "# SPARK RDD\n",
    "\n",
    "# Loading a CSV\n",
    "csvreader = spark.read.format(\"csv\").option(\"header\", \"true\")\n",
    "df = csvreader.load(\"data/breadbasket_dms.csv\")\n",
    "df.registerTempTable(\"breadbasket\")\n",
    "print(type(df))\n",
    "df.show()"
   ]
  },
  {
   "cell_type": "code",
   "execution_count": 19,
   "metadata": {},
   "outputs": [
    {
     "name": "stdout",
     "output_type": "stream",
     "text": [
      "+--------+-----------+-----------+\n",
      "|database|  tableName|isTemporary|\n",
      "+--------+-----------+-----------+\n",
      "|        |breadbasket|       true|\n",
      "+--------+-----------+-----------+\n",
      "\n"
     ]
    }
   ],
   "source": [
    "spark.sql(\"show tables\").show()"
   ]
  },
  {
   "cell_type": "code",
   "execution_count": 38,
   "metadata": {},
   "outputs": [
    {
     "name": "stdout",
     "output_type": "stream",
     "text": [
      "+---------+-------------------+------------+--------------------+\n",
      "|ticket_id|        ticket_date|ticket_items|               items|\n",
      "+---------+-------------------+------------+--------------------+\n",
      "|     1090|2016-11-11 16:20:18|           5|[Brownie, Coffee,...|\n",
      "|     1159|2016-11-12 13:19:37|           1|             [Bread]|\n",
      "|     1436|2016-11-16 12:19:46|           2|      [Coffee, Soup]|\n",
      "|     1512|2016-11-17 12:49:02|           3|[Hearty & Seasona...|\n",
      "|     1572|2016-11-18 10:49:51|           2|    [Pastry, Coffee]|\n",
      "|     2069|2016-11-26 08:29:14|           1|             [Bread]|\n",
      "|     2088|2016-11-26 10:30:16|           1|      [Scandinavian]|\n",
      "|     2136|2016-11-26 14:09:08|           2|[Hot chocolate, Tea]|\n",
      "|     2162|2016-11-27 10:03:29|           8|[Coffee, Tea, Jui...|\n",
      "|     2294|2016-11-29 12:21:00|           2|         [Tea, NONE]|\n",
      "|     2904|2016-12-10 10:14:55|           4|[NONE, Sandwich, ...|\n",
      "|      296|2016-11-02 11:58:42|           2|[Farm House, Scan...|\n",
      "|     3210|2016-12-15 15:50:38|           2|      [Bread, Bread]|\n",
      "|     3414|2016-12-18 13:05:35|           1|            [Coffee]|\n",
      "|     3606|2016-12-21 12:35:20|           1|             [Bread]|\n",
      "|     3959|2016-12-29 14:13:26|           1|      [Scandinavian]|\n",
      "|     4032|2016-12-30 16:37:34|           1|               [Tea]|\n",
      "|      467|2016-11-04 10:36:59|           1|             [Bread]|\n",
      "|     4821|2017-01-17 09:45:38|           2|   [Sandwich, Bread]|\n",
      "|     4937|2017-01-19 14:33:32|           4|[Sandwich, Sandwi...|\n",
      "+---------+-------------------+------------+--------------------+\n",
      "only showing top 20 rows\n",
      "\n"
     ]
    }
   ],
   "source": [
    "# EX1: GROUP ITEMS BY TICKET WITH SQL SYNTAX\n",
    "\n",
    "df2 = spark.sql(\"\"\"\n",
    "SELECT \n",
    "        Transaction as ticket_id,\n",
    "        CONCAT(max(Date),\" \",max(Time)) as ticket_date,\n",
    "        count(Item) as ticket_items,\n",
    "        collect_list(Item) as items,\n",
    "        approx_count_distinct(Item) as ticket_numitems\n",
    "    FROM breadbasket GROUP BY Transaction\n",
    "\"\"\")\n",
    "df2.show()"
   ]
  },
  {
   "cell_type": "code",
   "execution_count": 33,
   "metadata": {},
   "outputs": [
    {
     "name": "stdout",
     "output_type": "stream",
     "text": [
      "+-----------+--------------------+---------------------------+\n",
      "|Transaction|  collect_list(Item)|approx_count_distinct(Item)|\n",
      "+-----------+--------------------+---------------------------+\n",
      "|       1090|[Brownie, Coffee,...|                          4|\n",
      "|       1159|             [Bread]|                          1|\n",
      "|       1436|      [Coffee, Soup]|                          2|\n",
      "|       1512|[Hearty & Seasona...|                          3|\n",
      "|       1572|    [Pastry, Coffee]|                          2|\n",
      "|       2069|             [Bread]|                          1|\n",
      "|       2088|      [Scandinavian]|                          1|\n",
      "|       2136|[Hot chocolate, Tea]|                          2|\n",
      "|       2162|[Coffee, Tea, Jui...|                          7|\n",
      "|       2294|         [Tea, NONE]|                          2|\n",
      "|       2904|[NONE, Sandwich, ...|                          4|\n",
      "|        296|[Farm House, Scan...|                          2|\n",
      "|       3210|      [Bread, Bread]|                          1|\n",
      "|       3414|            [Coffee]|                          1|\n",
      "|       3606|             [Bread]|                          1|\n",
      "|       3959|      [Scandinavian]|                          1|\n",
      "|       4032|               [Tea]|                          1|\n",
      "|        467|             [Bread]|                          1|\n",
      "|       4821|   [Sandwich, Bread]|                          2|\n",
      "|       4937|[Sandwich, Sandwi...|                          3|\n",
      "+-----------+--------------------+---------------------------+\n",
      "only showing top 20 rows\n",
      "\n",
      "None\n",
      "Row(Transaction='1090', collect_list(Item)=['Brownie', 'Coffee', 'Hot chocolate', 'Coffee', 'Juice'], approx_count_distinct(Item)=4)\n"
     ]
    }
   ],
   "source": [
    "# EX1: SAME GROUPING EXAMPLE BUT WITH SPARK SYNTAX\n",
    "from pyspark.sql.functions import collect_list, approx_count_distinct\n",
    "\n",
    "q = df.groupby(df.Transaction).agg(collect_list(\"Item\"), approx_count_distinct(\"Item\"))\n",
    "print(q.show())\n",
    "print(q.head())"
   ]
  },
  {
   "cell_type": "code",
   "execution_count": 53,
   "metadata": {},
   "outputs": [
    {
     "name": "stdout",
     "output_type": "stream",
     "text": [
      "+---------+-------------------+------------+--------------------+-----------------+\n",
      "|ticket_id|        ticket_date|ticket_items|               items|             item|\n",
      "+---------+-------------------+------------+--------------------+-----------------+\n",
      "|     1090|2016-11-11 16:20:18|           5|[Brownie, Coffee,...|          Brownie|\n",
      "|     1090|2016-11-11 16:20:18|           5|[Brownie, Coffee,...|           Coffee|\n",
      "|     1090|2016-11-11 16:20:18|           5|[Brownie, Coffee,...|    Hot chocolate|\n",
      "|     1090|2016-11-11 16:20:18|           5|[Brownie, Coffee,...|           Coffee|\n",
      "|     1090|2016-11-11 16:20:18|           5|[Brownie, Coffee,...|            Juice|\n",
      "|     1159|2016-11-12 13:19:37|           1|             [Bread]|            Bread|\n",
      "|     1436|2016-11-16 12:19:46|           2|      [Coffee, Soup]|           Coffee|\n",
      "|     1436|2016-11-16 12:19:46|           2|      [Coffee, Soup]|             Soup|\n",
      "|     1512|2016-11-17 12:49:02|           3|[Hearty & Seasona...|Hearty & Seasonal|\n",
      "|     1512|2016-11-17 12:49:02|           3|[Hearty & Seasona...|    Mineral water|\n",
      "|     1512|2016-11-17 12:49:02|           3|[Hearty & Seasona...|        Alfajores|\n",
      "|     1572|2016-11-18 10:49:51|           2|    [Pastry, Coffee]|           Pastry|\n",
      "|     1572|2016-11-18 10:49:51|           2|    [Pastry, Coffee]|           Coffee|\n",
      "|     2069|2016-11-26 08:29:14|           1|             [Bread]|            Bread|\n",
      "|     2088|2016-11-26 10:30:16|           1|      [Scandinavian]|     Scandinavian|\n",
      "|     2136|2016-11-26 14:09:08|           2|[Hot chocolate, Tea]|    Hot chocolate|\n",
      "|     2136|2016-11-26 14:09:08|           2|[Hot chocolate, Tea]|              Tea|\n",
      "|     2162|2016-11-27 10:03:29|           8|[Coffee, Tea, Jui...|           Coffee|\n",
      "|     2162|2016-11-27 10:03:29|           8|[Coffee, Tea, Jui...|              Tea|\n",
      "|     2162|2016-11-27 10:03:29|           8|[Coffee, Tea, Jui...|            Juice|\n",
      "+---------+-------------------+------------+--------------------+-----------------+\n",
      "only showing top 20 rows\n",
      "\n"
     ]
    }
   ],
   "source": [
    "from pyspark.sql.functions import explode\n",
    "from pyspark.sql import functions as F\n",
    "\n",
    "#df.groupBy(\"ticket_id\").pivot(\"items\").agg(F.lit(1)).na.fill(0).show()\n",
    "m = df2.withColumn(\"item\", explode(df2.items))\n",
    "m.show()\n"
   ]
  },
  {
   "cell_type": "code",
   "execution_count": 69,
   "metadata": {},
   "outputs": [
    {
     "name": "stdout",
     "output_type": "stream",
     "text": [
      "['ticket_id', 'Adjustment', 'Afternoon with the baker', 'Alfajores', 'Argentina Night', 'Art Tray', 'Bacon', 'Baguette', 'Bakewell', 'Bare Popcorn', 'Basket', 'Bowl Nic Pitt', 'Bread', 'Bread Pudding', 'Brioche and salami', 'Brownie', 'Cake', 'Caramel bites', 'Cherry me Dried fruit', 'Chicken Stew', 'Chicken sand', 'Chimichurri Oil', 'Chocolates', 'Christmas common', 'Coffee', 'Coffee granules ', 'Coke', 'Cookies', 'Crepes', 'Crisps', 'Drinking chocolate spoons ', 'Duck egg', 'Dulce de Leche', 'Eggs', \"Ella's Kitchen Pouches\", 'Empanadas', 'Extra Salami or Feta', 'Fairy Doors', 'Farm House', 'Focaccia', 'Frittata', 'Fudge', 'Gift voucher', 'Gingerbread syrup', 'Granola', 'Hack the stack', 'Half slice Monster ', 'Hearty & Seasonal', 'Honey', 'Hot chocolate', 'Jam', 'Jammie Dodgers', 'Juice', 'Keeping It Local', 'Kids biscuit', 'Lemon and coconut', 'Medialuna', 'Mighty Protein', 'Mineral water', 'Mortimer', 'Muesli', 'Muffin', 'My-5 Fruit Shoot', 'NONE', 'Nomad bag', 'Olum & polenta', 'Panatone', 'Pastry', 'Pick and Mix Bowls', 'Pintxos', 'Polenta', 'Postcard', 'Raspberry shortbread sandwich', 'Raw bars', 'Salad', 'Sandwich', 'Scandinavian', 'Scone', 'Siblings', 'Smoothies', 'Soup', 'Spanish Brunch', 'Spread', 'Tacos/Fajita', 'Tartine', 'Tea', 'The BART', 'The Nomad', 'Tiffin', 'Toast', 'Truffles', 'Tshirt', \"Valentine's card\", 'Vegan Feast', 'Vegan mincepie', 'Victorian Sponge'] 96\n",
      "+---------+----------+------------------------+---------+---------------+--------+-----+\n",
      "|ticket_id|Adjustment|Afternoon with the baker|Alfajores|Argentina Night|Art Tray|Bacon|\n",
      "+---------+----------+------------------------+---------+---------------+--------+-----+\n",
      "|     4821|         0|                       0|        0|              0|       0|    0|\n",
      "|     9030|         0|                       0|        0|              0|       0|    0|\n",
      "|      296|         0|                       0|        0|              0|       0|    0|\n",
      "|     2904|         0|                       0|        0|              0|       0|    0|\n",
      "|     1572|         0|                       0|        0|              0|       0|    0|\n",
      "|     6613|         0|                       0|        0|              0|       0|    0|\n",
      "|     6194|         0|                       0|        1|              0|       0|    0|\n",
      "|     7273|         0|                       0|        0|              0|       0|    0|\n",
      "|     6731|         0|                       0|        0|              0|       0|    0|\n",
      "|     6240|         0|                       0|        0|              0|       0|    0|\n",
      "|     9586|         0|                       0|        0|              0|       0|    0|\n",
      "|     2294|         0|                       0|        0|              0|       0|    0|\n",
      "|     4937|         0|                       0|        0|              0|       0|    0|\n",
      "|     2088|         0|                       0|        0|              0|       0|    0|\n",
      "|     9009|         0|                       0|        0|              0|       0|    0|\n",
      "|     1436|         0|                       0|        0|              0|       0|    0|\n",
      "|     1090|         0|                       0|        0|              0|       0|    0|\n",
      "|     3414|         0|                       0|        0|              0|       0|    0|\n",
      "|      829|         0|                       0|        0|              0|       0|    0|\n",
      "|      467|         0|                       0|        0|              0|       0|    0|\n",
      "+---------+----------+------------------------+---------+---------------+--------+-----+\n",
      "only showing top 20 rows\n",
      "\n"
     ]
    }
   ],
   "source": [
    "s = m.groupBy(\"ticket_id\").pivot(\"item\").count().na.fill(0)\n",
    "print(s.columns,len(s.columns))\n",
    "s.select(s.columns[:7]).show()"
   ]
  },
  {
   "cell_type": "code",
   "execution_count": 70,
   "metadata": {},
   "outputs": [
    {
     "name": "stdout",
     "output_type": "stream",
     "text": [
      "+------+\n",
      "|Coffee|\n",
      "+------+\n",
      "|     2|\n",
      "+------+\n",
      "\n"
     ]
    }
   ],
   "source": [
    "s.filter(\"ticket_id=1090\").select(\"Coffee\").show()"
   ]
  },
  {
   "cell_type": "code",
   "execution_count": 75,
   "metadata": {},
   "outputs": [
    {
     "data": {
      "text/plain": [
       "9531"
      ]
     },
     "execution_count": 75,
     "metadata": {},
     "output_type": "execute_result"
    }
   ],
   "source": [
    "s.count()"
   ]
  },
  {
   "cell_type": "code",
   "execution_count": 78,
   "metadata": {},
   "outputs": [],
   "source": [
    "def suma(a:int,b:int):\n",
    "    return a+b"
   ]
  },
  {
   "cell_type": "code",
   "execution_count": 80,
   "metadata": {},
   "outputs": [
    {
     "data": {
      "text/plain": [
       "'54'"
      ]
     },
     "execution_count": 80,
     "metadata": {},
     "output_type": "execute_result"
    }
   ],
   "source": [
    "suma(\"5\",\"4\")"
   ]
  },
  {
   "cell_type": "code",
   "execution_count": 85,
   "metadata": {},
   "outputs": [],
   "source": [
    "import pandas as pd\n",
    "\n",
    "q = s.toPandas()"
   ]
  },
  {
   "cell_type": "code",
   "execution_count": 90,
   "metadata": {},
   "outputs": [
    {
     "data": {
      "text/html": [
       "<div>\n",
       "<style scoped>\n",
       "    .dataframe tbody tr th:only-of-type {\n",
       "        vertical-align: middle;\n",
       "    }\n",
       "\n",
       "    .dataframe tbody tr th {\n",
       "        vertical-align: top;\n",
       "    }\n",
       "\n",
       "    .dataframe thead th {\n",
       "        text-align: right;\n",
       "    }\n",
       "</style>\n",
       "<table border=\"1\" class=\"dataframe\">\n",
       "  <thead>\n",
       "    <tr style=\"text-align: right;\">\n",
       "      <th></th>\n",
       "      <th>Adjustment</th>\n",
       "      <th>Afternoon with the baker</th>\n",
       "      <th>Alfajores</th>\n",
       "      <th>Argentina Night</th>\n",
       "      <th>Art Tray</th>\n",
       "      <th>Bacon</th>\n",
       "      <th>Baguette</th>\n",
       "      <th>Bakewell</th>\n",
       "      <th>Bare Popcorn</th>\n",
       "      <th>Basket</th>\n",
       "      <th>...</th>\n",
       "      <th>The BART</th>\n",
       "      <th>The Nomad</th>\n",
       "      <th>Tiffin</th>\n",
       "      <th>Toast</th>\n",
       "      <th>Truffles</th>\n",
       "      <th>Tshirt</th>\n",
       "      <th>Valentine's card</th>\n",
       "      <th>Vegan Feast</th>\n",
       "      <th>Vegan mincepie</th>\n",
       "      <th>Victorian Sponge</th>\n",
       "    </tr>\n",
       "  </thead>\n",
       "  <tbody>\n",
       "    <tr>\n",
       "      <th>0</th>\n",
       "      <td>0</td>\n",
       "      <td>0</td>\n",
       "      <td>0</td>\n",
       "      <td>0</td>\n",
       "      <td>0</td>\n",
       "      <td>0</td>\n",
       "      <td>0</td>\n",
       "      <td>0</td>\n",
       "      <td>0</td>\n",
       "      <td>0</td>\n",
       "      <td>...</td>\n",
       "      <td>0</td>\n",
       "      <td>0</td>\n",
       "      <td>0</td>\n",
       "      <td>0</td>\n",
       "      <td>0</td>\n",
       "      <td>0</td>\n",
       "      <td>0</td>\n",
       "      <td>0</td>\n",
       "      <td>0</td>\n",
       "      <td>0</td>\n",
       "    </tr>\n",
       "    <tr>\n",
       "      <th>1</th>\n",
       "      <td>0</td>\n",
       "      <td>0</td>\n",
       "      <td>0</td>\n",
       "      <td>0</td>\n",
       "      <td>0</td>\n",
       "      <td>0</td>\n",
       "      <td>0</td>\n",
       "      <td>0</td>\n",
       "      <td>0</td>\n",
       "      <td>0</td>\n",
       "      <td>...</td>\n",
       "      <td>0</td>\n",
       "      <td>0</td>\n",
       "      <td>0</td>\n",
       "      <td>0</td>\n",
       "      <td>0</td>\n",
       "      <td>0</td>\n",
       "      <td>0</td>\n",
       "      <td>0</td>\n",
       "      <td>0</td>\n",
       "      <td>0</td>\n",
       "    </tr>\n",
       "    <tr>\n",
       "      <th>2</th>\n",
       "      <td>0</td>\n",
       "      <td>0</td>\n",
       "      <td>0</td>\n",
       "      <td>0</td>\n",
       "      <td>0</td>\n",
       "      <td>0</td>\n",
       "      <td>0</td>\n",
       "      <td>0</td>\n",
       "      <td>0</td>\n",
       "      <td>0</td>\n",
       "      <td>...</td>\n",
       "      <td>0</td>\n",
       "      <td>0</td>\n",
       "      <td>0</td>\n",
       "      <td>0</td>\n",
       "      <td>0</td>\n",
       "      <td>0</td>\n",
       "      <td>0</td>\n",
       "      <td>0</td>\n",
       "      <td>0</td>\n",
       "      <td>0</td>\n",
       "    </tr>\n",
       "    <tr>\n",
       "      <th>3</th>\n",
       "      <td>0</td>\n",
       "      <td>0</td>\n",
       "      <td>0</td>\n",
       "      <td>0</td>\n",
       "      <td>0</td>\n",
       "      <td>0</td>\n",
       "      <td>0</td>\n",
       "      <td>0</td>\n",
       "      <td>0</td>\n",
       "      <td>0</td>\n",
       "      <td>...</td>\n",
       "      <td>0</td>\n",
       "      <td>0</td>\n",
       "      <td>0</td>\n",
       "      <td>0</td>\n",
       "      <td>0</td>\n",
       "      <td>0</td>\n",
       "      <td>0</td>\n",
       "      <td>0</td>\n",
       "      <td>0</td>\n",
       "      <td>0</td>\n",
       "    </tr>\n",
       "    <tr>\n",
       "      <th>4</th>\n",
       "      <td>0</td>\n",
       "      <td>0</td>\n",
       "      <td>0</td>\n",
       "      <td>0</td>\n",
       "      <td>0</td>\n",
       "      <td>0</td>\n",
       "      <td>0</td>\n",
       "      <td>0</td>\n",
       "      <td>0</td>\n",
       "      <td>0</td>\n",
       "      <td>...</td>\n",
       "      <td>0</td>\n",
       "      <td>0</td>\n",
       "      <td>0</td>\n",
       "      <td>0</td>\n",
       "      <td>0</td>\n",
       "      <td>0</td>\n",
       "      <td>0</td>\n",
       "      <td>0</td>\n",
       "      <td>0</td>\n",
       "      <td>0</td>\n",
       "    </tr>\n",
       "  </tbody>\n",
       "</table>\n",
       "<p>5 rows × 95 columns</p>\n",
       "</div>"
      ],
      "text/plain": [
       "   Adjustment  Afternoon with the baker  Alfajores  Argentina Night  Art Tray  \\\n",
       "0           0                         0          0                0         0   \n",
       "1           0                         0          0                0         0   \n",
       "2           0                         0          0                0         0   \n",
       "3           0                         0          0                0         0   \n",
       "4           0                         0          0                0         0   \n",
       "\n",
       "   Bacon  Baguette  Bakewell  Bare Popcorn  Basket  ...  The BART  The Nomad  \\\n",
       "0      0         0         0             0       0  ...         0          0   \n",
       "1      0         0         0             0       0  ...         0          0   \n",
       "2      0         0         0             0       0  ...         0          0   \n",
       "3      0         0         0             0       0  ...         0          0   \n",
       "4      0         0         0             0       0  ...         0          0   \n",
       "\n",
       "   Tiffin  Toast  Truffles  Tshirt  Valentine's card  Vegan Feast  \\\n",
       "0       0      0         0       0                 0            0   \n",
       "1       0      0         0       0                 0            0   \n",
       "2       0      0         0       0                 0            0   \n",
       "3       0      0         0       0                 0            0   \n",
       "4       0      0         0       0                 0            0   \n",
       "\n",
       "   Vegan mincepie  Victorian Sponge  \n",
       "0               0                 0  \n",
       "1               0                 0  \n",
       "2               0                 0  \n",
       "3               0                 0  \n",
       "4               0                 0  \n",
       "\n",
       "[5 rows x 95 columns]"
      ]
     },
     "execution_count": 90,
     "metadata": {},
     "output_type": "execute_result"
    }
   ],
   "source": [
    "q.drop(columns=[\"ticket_id\"],inplace=True)\n",
    "q.head()"
   ]
  },
  {
   "cell_type": "code",
   "execution_count": 92,
   "metadata": {},
   "outputs": [],
   "source": [
    "from sklearn.decomposition import PCA\n",
    "pca = PCA(n_components=2)\n",
    "fv = pca.fit_transform(q)"
   ]
  },
  {
   "cell_type": "code",
   "execution_count": 96,
   "metadata": {},
   "outputs": [
    {
     "data": {
      "text/plain": [
       "<matplotlib.collections.PathCollection at 0x1214da350>"
      ]
     },
     "execution_count": 96,
     "metadata": {},
     "output_type": "execute_result"
    },
    {
     "data": {
      "image/png": "[encoded data removed]",
      "text/plain": [
       "<Figure size 432x288 with 1 Axes>"
      ]
     },
     "metadata": {
      "needs_background": "light"
     },
     "output_type": "display_data"
    }
   ],
   "source": [
    "%matplotlib inline\n",
    "import matplotlib.pyplot as plt\n",
    "plt.scatter(fv[:,0],fv[:,1])"
   ]
  },
  {
   "cell_type": "code",
   "execution_count": null,
   "metadata": {},
   "outputs": [],
   "source": []
  }
 ],
 "metadata": {
  "kernelspec": {
   "display_name": "Python 3",
   "language": "python",
   "name": "python3"
  },
  "language_info": {
   "codemirror_mode": {
    "name": "ipython",
    "version": 3
   },
   "file_extension": ".py",
   "mimetype": "text/x-python",
   "name": "python",
   "nbconvert_exporter": "python",
   "pygments_lexer": "ipython3",
   "version": "3.7.5"
  }
 },
 "nbformat": 4,
 "nbformat_minor": 2
}
