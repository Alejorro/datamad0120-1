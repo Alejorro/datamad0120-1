{
 "cells": [
  {
   "cell_type": "code",
   "execution_count": 1,
   "metadata": {},
   "outputs": [],
   "source": [
    "# Modules in python, running a terminal script and how import works\n",
    "# See -> w2-d4-python-modules"
   ]
  },
  {
   "cell_type": "code",
   "execution_count": 28,
   "metadata": {},
   "outputs": [
    {
     "name": "stdout",
     "output_type": "stream",
     "text": [
      "/Users/boyander/IRONHACK/@DATA_EPHEMERAL\n",
      "/Users/boyander/IRONHACK/@DATA_EPHEMERAL/datamad0120\n",
      "pepe.txt\n",
      "txt\n",
      "/Users/boyander/IRONHACK/@DATA_EPHEMERAL/datamad0120\n",
      "False\n"
     ]
    }
   ],
   "source": [
    "# https://docs.python.org/3/library/os.path.html\n",
    "# Manage python paths with \"import os.path\"\n",
    "import os.path\n",
    "\n",
    "v = \"@DATA_EPHEMERAL\"\n",
    "p = \"/Users/boyander/IRONHACK/\"\n",
    "print(os.path.join(p,v))\n",
    "print(os.path.abspath(\"./\"))\n",
    "\n",
    "file = \"/Users/boyander/IRONHACK/@DATA_EPHEMERAL/datamad0120/pepe.txt\"\n",
    "print(os.path.basename(file))\n",
    "print(os.path.basename(file).split('.')[1])\n",
    "\n",
    "print(os.path.dirname(file))\n",
    "\n",
    "print(os.path.isfile(file))"
   ]
  },
  {
   "cell_type": "code",
   "execution_count": 33,
   "metadata": {},
   "outputs": [
    {
     "name": "stdout",
     "output_type": "stream",
     "text": [
      "evaluadted\n"
     ]
    }
   ],
   "source": [
    "# left to right if evaluation\n",
    "\n",
    "def holaAndTrue():\n",
    "    print(\"Hola\")\n",
    "    return True\n",
    "\n",
    "if True or holaAndTrue():\n",
    "    print(\"evaluadted\")"
   ]
  },
  {
   "cell_type": "code",
   "execution_count": 49,
   "metadata": {},
   "outputs": [
    {
     "name": "stdout",
     "output_type": "stream",
     "text": [
      "3\n",
      "juan\n",
      "luis\n",
      "juan\n",
      "[2, 4]\n",
      "[1, 2, 9, 4, 25]\n"
     ]
    }
   ],
   "source": [
    "# ternary operators\n",
    "a = 5\n",
    "print(3 if a==5 else \"a\")\n",
    "print(\"pepe\" if a<3 else \"juan\")\n",
    "\n",
    "q = 25 if a==3 else \"luis\"\n",
    "print(q)\n",
    "\n",
    "print(0 or \"juan\")\n",
    "\n",
    "\n",
    "m = [1,2,3,4,5]\n",
    "print([e for e in m if e%2==0])\n",
    "print([e if e%2==0 else e**2 for e in m])\n"
   ]
  },
  {
   "cell_type": "code",
   "execution_count": 59,
   "metadata": {},
   "outputs": [
    {
     "name": "stdout",
     "output_type": "stream",
     "text": [
      "<function <lambda> at 0x10f7824d0>\n",
      "<function suma at 0x10f782440>\n",
      "<function <lambda> at 0x10f7823b0>\n"
     ]
    },
    {
     "data": {
      "text/plain": [
       "15"
      ]
     },
     "execution_count": 59,
     "metadata": {},
     "output_type": "execute_result"
    }
   ],
   "source": [
    "# https://www.programiz.com/python-programming/anonymous-function\n",
    "# lambda anonymous functions\n",
    "# lambda multiple arguments\n",
    "def suma(a,b):\n",
    "    return a+b\n",
    "\n",
    "suma2 = lambda a,b: a+b\n",
    "print(suma2)\n",
    "print(suma)\n",
    "print(lambda a,b: a+b)\n",
    "suma2(5,10)"
   ]
  },
  {
   "cell_type": "code",
   "execution_count": 62,
   "metadata": {},
   "outputs": [
    {
     "name": "stdout",
     "output_type": "stream",
     "text": [
      "Hola Ana!\n",
      "nosaludo\n"
     ]
    }
   ],
   "source": [
    "saludador = lambda name: f\"Hola {name}!\" if name[0]==\"A\" else \"nosaludo\"\n",
    "print(saludador(\"Ana\"))\n",
    "print(saludador(\"Pepe\"))"
   ]
  },
  {
   "cell_type": "code",
   "execution_count": 66,
   "metadata": {},
   "outputs": [
    {
     "data": {
      "text/plain": [
       "8"
      ]
     },
     "execution_count": 66,
     "metadata": {},
     "output_type": "execute_result"
    }
   ],
   "source": [
    "# oneliners\n",
    "(lambda a,b: a+b)(5,3)"
   ]
  },
  {
   "cell_type": "code",
   "execution_count": 74,
   "metadata": {},
   "outputs": [
    {
     "data": {
      "text/plain": [
       "8"
      ]
     },
     "execution_count": 74,
     "metadata": {},
     "output_type": "execute_result"
    }
   ],
   "source": [
    "# suma si el primer argumento es impar sino multiplica\n",
    "(lambda a,b: (lambda a,b: a+b)(a,b) if a%2!=0 else (lambda a,b: a*b)(a,b))(5,3)\n",
    "\n"
   ]
  },
  {
   "cell_type": "code",
   "execution_count": 82,
   "metadata": {},
   "outputs": [
    {
     "data": {
      "text/plain": [
       "15"
      ]
     },
     "execution_count": 82,
     "metadata": {},
     "output_type": "execute_result"
    }
   ],
   "source": [
    "# https://en.wikipedia.org/wiki/Currying\n",
    "# lambda with lambda -> Currying\n",
    "def suma(c):\n",
    "    def q(a,b):\n",
    "        return a+b+c\n",
    "    return q\n",
    "suma(5)(4,6)\n",
    "\n",
    "suma2 = lambda c: lambda a,b: a+b+c\n",
    "suma2(5)(4,6)\n"
   ]
  },
  {
   "cell_type": "code",
   "execution_count": 89,
   "metadata": {},
   "outputs": [
    {
     "data": {
      "text/plain": [
       "'⛱pepe, ⛱juan, ⛱luis'"
      ]
     },
     "execution_count": 89,
     "metadata": {},
     "output_type": "execute_result"
    }
   ],
   "source": [
    "# lambda star multiple positionals\n",
    "sombrilla = lambda *n: ', '.join([f\"⛱{q}\" for q in n])\n",
    "\n",
    "sombrilla(\"pepe\",\"juan\",\"luis\")"
   ]
  },
  {
   "cell_type": "code",
   "execution_count": 94,
   "metadata": {},
   "outputs": [
    {
     "data": {
      "text/plain": [
       "'PEPE'"
      ]
     },
     "execution_count": 94,
     "metadata": {},
     "output_type": "execute_result"
    }
   ],
   "source": [
    "juan = {\n",
    "    \"name\":\"Juan Garcia\",\n",
    "    \"edad\":30\n",
    "}\n",
    "\n",
    "juan.get(\"nombre\",\"PEPE\")"
   ]
  },
  {
   "cell_type": "code",
   "execution_count": 105,
   "metadata": {},
   "outputs": [
    {
     "name": "stdout",
     "output_type": "stream",
     "text": [
      "HOla\n",
      "Pepe⛱\n",
      "HOla\n",
      "Juan⛱\n"
     ]
    }
   ],
   "source": [
    "# Map with function\n",
    "def sombrilla(n):\n",
    "    print(\"HOla\")\n",
    "    return f\"{n}⛱\"\n",
    "\n",
    "for e in map(sombrilla,[\"Pepe\",\"Juan\",\"Luis\"]):\n",
    "    print(e)\n",
    "    if e[0] == \"J\":\n",
    "        break"
   ]
  },
  {
   "cell_type": "code",
   "execution_count": 103,
   "metadata": {},
   "outputs": [
    {
     "data": {
      "text/plain": [
       "['Pepe⛱', 'Juan⛱', 'Luis⛱']"
      ]
     },
     "execution_count": 103,
     "metadata": {},
     "output_type": "execute_result"
    }
   ],
   "source": [
    "# Map with lambda\n",
    "list(map(lambda n:f\"{n}⛱\",[\"Pepe\",\"Juan\",\"Luis\"]))"
   ]
  },
  {
   "cell_type": "code",
   "execution_count": 110,
   "metadata": {},
   "outputs": [
    {
     "data": {
      "text/plain": [
       "['Pepe tratra', 'Juan tratra', 'Luis tratra']"
      ]
     },
     "execution_count": 110,
     "metadata": {},
     "output_type": "execute_result"
    }
   ],
   "source": [
    "# Parametrized function map with callback\n",
    "concatenate = lambda n: lambda m: f\"{m} {n}\"\n",
    "\n",
    "def cantame(cantante):\n",
    "    if cantante == \"Rosalia\":\n",
    "        return concatenate(\"tratra\")\n",
    "    else:\n",
    "        return concatenate(\"1,2,3...dale!\")\n",
    "    \n",
    "\n",
    "list(map(cantame(\"Rosalia\"),[\"Pepe\",\"Juan\",\"Luis\"]))"
   ]
  },
  {
   "cell_type": "code",
   "execution_count": 113,
   "metadata": {},
   "outputs": [
    {
     "data": {
      "text/plain": [
       "['Pepe']"
      ]
     },
     "execution_count": 113,
     "metadata": {},
     "output_type": "execute_result"
    }
   ],
   "source": [
    "# Filter simple data\n",
    "list(filter(lambda e: e[0]==\"P\",[\"Pepe\",\"Juan\",\"Luis\"]))"
   ]
  },
  {
   "cell_type": "code",
   "execution_count": 117,
   "metadata": {},
   "outputs": [
    {
     "data": {
      "text/plain": [
       "[0, 2, 4, 6, 8]"
      ]
     },
     "execution_count": 117,
     "metadata": {},
     "output_type": "execute_result"
    }
   ],
   "source": [
    "list(filter(lambda e: (e+1)%2, range(10)))"
   ]
  },
  {
   "cell_type": "code",
   "execution_count": 120,
   "metadata": {},
   "outputs": [
    {
     "name": "stdout",
     "output_type": "stream",
     "text": [
      "0\n",
      "1\n",
      "2\n",
      "3\n",
      "4\n",
      "0\n",
      "1\n",
      "2\n",
      "3\n",
      "4\n",
      "0\n",
      "1\n",
      "2\n",
      "3\n",
      "4\n",
      "0\n",
      "1\n",
      "2\n",
      "3\n",
      "4\n"
     ]
    }
   ],
   "source": [
    "for e in range(20):\n",
    "    print(e%5)"
   ]
  },
  {
   "cell_type": "code",
   "execution_count": 122,
   "metadata": {},
   "outputs": [
    {
     "data": {
      "text/plain": [
       "[{'name': 'Pension Loli', 'stars': 5}, {'name': 'Palace', 'stars': 5}]"
      ]
     },
     "execution_count": 122,
     "metadata": {},
     "output_type": "execute_result"
    }
   ],
   "source": [
    "# Filter complex list of dict structures\n",
    "hoteles = [\n",
    "    {\"name\":\"Pension Loli\",\"stars\":5},\n",
    "    {\"name\":\"NH\", \"stars\":4},\n",
    "    {\"name\":\"Palace\",\"stars\":5}\n",
    "]\n",
    "\n",
    "list(filter(lambda h: h[\"stars\"]>=5, hoteles))"
   ]
  },
  {
   "cell_type": "code",
   "execution_count": 137,
   "metadata": {},
   "outputs": [
    {
     "data": {
      "text/plain": [
       "{'stars': 5, 'rooms': 200}"
      ]
     },
     "execution_count": 137,
     "metadata": {},
     "output_type": "execute_result"
    }
   ],
   "source": [
    "h = {\n",
    "    \"name\":\"Palace\",\n",
    "    \"stars\":5,\n",
    "    \"hasPool\":True,\n",
    "    \"rooms\":200,\n",
    "    \"services\":[\"restaurant\",\"frontdesk\"]\n",
    "}\n",
    "\n",
    "dict(filter(lambda t:type(t[1])==int,h.items()))"
   ]
  },
  {
   "cell_type": "code",
   "execution_count": 140,
   "metadata": {},
   "outputs": [
    {
     "data": {
      "text/plain": [
       "{'a': 4}"
      ]
     },
     "execution_count": 140,
     "metadata": {},
     "output_type": "execute_result"
    }
   ],
   "source": [
    "dict([(\"a\",5),(\"a\",4)])"
   ]
  },
  {
   "cell_type": "code",
   "execution_count": 135,
   "metadata": {},
   "outputs": [
    {
     "data": {
      "text/plain": [
       "True"
      ]
     },
     "execution_count": 135,
     "metadata": {},
     "output_type": "execute_result"
    }
   ],
   "source": [
    "type(5) == int"
   ]
  },
  {
   "cell_type": "code",
   "execution_count": 8,
   "metadata": {},
   "outputs": [],
   "source": [
    "# reduce from functools module"
   ]
  },
  {
   "cell_type": "code",
   "execution_count": 159,
   "metadata": {
    "scrolled": true
   },
   "outputs": [
    {
     "name": "stdout",
     "output_type": "stream",
     "text": [
      "acc[1] e[2]\n",
      "acc[1.25] e[3]\n",
      "acc[1.625] e[5]\n",
      "acc[2.25] e[6]\n",
      "acc[3.0] e[7]\n",
      "acc[3.875] e[8]\n",
      "acc[4.875] e[9]\n"
     ]
    },
    {
     "data": {
      "text/plain": [
       "6.0"
      ]
     },
     "execution_count": 159,
     "metadata": {},
     "output_type": "execute_result"
    }
   ],
   "source": [
    "from functools import reduce\n",
    "\n",
    "m = [1,2,3,5,6,7,8,9]\n",
    "def reducer(acc,e):\n",
    "    print(f\"acc[{acc}] e[{e}]\")\n",
    "    return acc+(e/len(m))\n",
    "\n",
    "reduce(reducer,m,0)"
   ]
  },
  {
   "cell_type": "code",
   "execution_count": 163,
   "metadata": {},
   "outputs": [
    {
     "data": {
      "text/plain": [
       "'->,Fran,Blanca,Clara,Felipe'"
      ]
     },
     "execution_count": 163,
     "metadata": {},
     "output_type": "execute_result"
    }
   ],
   "source": [
    "reduce(lambda a,e: a+\",\"+e ,[\"Fran\",\"Blanca\",\"Clara\",\"Felipe\"],\"->\")"
   ]
  },
  {
   "cell_type": "code",
   "execution_count": 172,
   "metadata": {},
   "outputs": [
    {
     "data": {
      "text/plain": [
       "'Pension Loli-NH-Palace'"
      ]
     },
     "execution_count": 172,
     "metadata": {},
     "output_type": "execute_result"
    }
   ],
   "source": [
    "hoteles = [\n",
    "    {\"name\":\"Pension Loli\",\"stars\":5},\n",
    "    {\"name\":\"NH\", \"stars\":4},\n",
    "    {\"name\":\"Palace\",\"stars\":5}\n",
    "]\n",
    "reduce(lambda acc,e: acc+\"-\"+e[\"name\"] ,hoteles,\"\")[1:]"
   ]
  },
  {
   "cell_type": "code",
   "execution_count": null,
   "metadata": {},
   "outputs": [],
   "source": []
  }
 ],
 "metadata": {
  "kernelspec": {
   "display_name": "Python 3",
   "language": "python",
   "name": "python3"
  },
  "language_info": {
   "codemirror_mode": {
    "name": "ipython",
    "version": 3
   },
   "file_extension": ".py",
   "mimetype": "text/x-python",
   "name": "python",
   "nbconvert_exporter": "python",
   "pygments_lexer": "ipython3",
   "version": "3.7.5"
  }
 },
 "nbformat": 4,
 "nbformat_minor": 2
}
