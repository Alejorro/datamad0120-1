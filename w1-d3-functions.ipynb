{
 "cells": [
  {
   "cell_type": "code",
   "execution_count": 1,
   "metadata": {},
   "outputs": [],
   "source": [
    "def suma(a,b):\n",
    "    return a+b"
   ]
  },
  {
   "cell_type": "code",
   "execution_count": 2,
   "metadata": {},
   "outputs": [
    {
     "data": {
      "text/plain": [
       "12"
      ]
     },
     "execution_count": 2,
     "metadata": {},
     "output_type": "execute_result"
    }
   ],
   "source": [
    "suma(5,7)"
   ]
  },
  {
   "cell_type": "code",
   "execution_count": 3,
   "metadata": {},
   "outputs": [
    {
     "name": "stdout",
     "output_type": "stream",
     "text": [
      "hola\n"
     ]
    }
   ],
   "source": [
    "print(\"hola\")"
   ]
  },
  {
   "cell_type": "code",
   "execution_count": 6,
   "metadata": {},
   "outputs": [
    {
     "name": "stdout",
     "output_type": "stream",
     "text": [
      "Hola pepe\n"
     ]
    }
   ],
   "source": [
    "def saluda(nombre):\n",
    "    return \"Hola \"+nombre\n",
    "print(saluda(\"pepe\"))"
   ]
  },
  {
   "cell_type": "code",
   "execution_count": 7,
   "metadata": {},
   "outputs": [
    {
     "data": {
      "text/plain": [
       "'Hola pepe4'"
      ]
     },
     "execution_count": 7,
     "metadata": {},
     "output_type": "execute_result"
    }
   ],
   "source": [
    "saluda(\"pepe\")\n",
    "saluda(\"pepe2\")\n",
    "saluda(\"pepe3\")\n",
    "saluda(\"pepe4\")"
   ]
  },
  {
   "cell_type": "code",
   "execution_count": 9,
   "metadata": {},
   "outputs": [],
   "source": [
    "a = [1,2,3]*3"
   ]
  },
  {
   "cell_type": "code",
   "execution_count": 11,
   "metadata": {},
   "outputs": [],
   "source": [
    "def saluda(nombre, idioma=\"es\"):\n",
    "    if idioma == \"es\":\n",
    "        return \"Hola \" + nombre\n",
    "    elif idioma == \"en\":\n",
    "        return \"Hello \" + nombre"
   ]
  },
  {
   "cell_type": "code",
   "execution_count": 14,
   "metadata": {},
   "outputs": [
    {
     "data": {
      "text/plain": [
       "'Hello Pepe'"
      ]
     },
     "execution_count": 14,
     "metadata": {},
     "output_type": "execute_result"
    }
   ],
   "source": [
    "saluda(\"Pepe\", \"en\")"
   ]
  },
  {
   "cell_type": "code",
   "execution_count": 16,
   "metadata": {},
   "outputs": [
    {
     "data": {
      "text/plain": [
       "'Hello Pepe'"
      ]
     },
     "execution_count": 16,
     "metadata": {},
     "output_type": "execute_result"
    }
   ],
   "source": [
    "saluda(idioma=\"en\", nombre=\"Pepe\")"
   ]
  },
  {
   "cell_type": "code",
   "execution_count": 17,
   "metadata": {},
   "outputs": [
    {
     "ename": "TypeError",
     "evalue": "saluda() missing 1 required positional argument: 'nombre'",
     "output_type": "error",
     "traceback": [
      "\u001b[0;31m---------------------------------------------------------------------------\u001b[0m",
      "\u001b[0;31mTypeError\u001b[0m                                 Traceback (most recent call last)",
      "\u001b[0;32m<ipython-input-17-636739ae52d9>\u001b[0m in \u001b[0;36m<module>\u001b[0;34m\u001b[0m\n\u001b[0;32m----> 1\u001b[0;31m \u001b[0msaluda\u001b[0m\u001b[0;34m(\u001b[0m\u001b[0midioma\u001b[0m\u001b[0;34m=\u001b[0m\u001b[0;34m\"en\"\u001b[0m\u001b[0;34m)\u001b[0m\u001b[0;34m\u001b[0m\u001b[0;34m\u001b[0m\u001b[0m\n\u001b[0m",
      "\u001b[0;31mTypeError\u001b[0m: saluda() missing 1 required positional argument: 'nombre'"
     ]
    }
   ],
   "source": [
    "saluda(idioma=\"en\")"
   ]
  },
  {
   "cell_type": "code",
   "execution_count": 18,
   "metadata": {},
   "outputs": [
    {
     "ename": "SyntaxError",
     "evalue": "non-default argument follows default argument (<ipython-input-18-2a3441f5f50c>, line 1)",
     "output_type": "error",
     "traceback": [
      "\u001b[0;36m  File \u001b[0;32m\"<ipython-input-18-2a3441f5f50c>\"\u001b[0;36m, line \u001b[0;32m1\u001b[0m\n\u001b[0;31m    def saluda(idioma=\"es\", nombre):\u001b[0m\n\u001b[0m              ^\u001b[0m\n\u001b[0;31mSyntaxError\u001b[0m\u001b[0;31m:\u001b[0m non-default argument follows default argument\n"
     ]
    }
   ],
   "source": [
    "def saluda(idioma=\"es\", nombre):\n",
    "    if idioma == \"es\":\n",
    "        return \"Hola \" + nombre\n",
    "    elif idioma == \"en\":\n",
    "        return \"Hello \" + nombre"
   ]
  },
  {
   "cell_type": "code",
   "execution_count": 22,
   "metadata": {},
   "outputs": [
    {
     "name": "stdout",
     "output_type": "stream",
     "text": [
      "Hola Fran\n",
      "Hola Clara\n",
      "Hola Blanca\n",
      "Hola Felipe\n"
     ]
    }
   ],
   "source": [
    "nombres = [\"Fran\",\"Clara\",\"Blanca\",\"Felipe\"]\n",
    "for nombre in nombres:\n",
    "    print(saluda(nombre))"
   ]
  },
  {
   "cell_type": "code",
   "execution_count": 26,
   "metadata": {},
   "outputs": [
    {
     "name": "stdout",
     "output_type": "stream",
     "text": [
      "Hello Fran\n",
      "Hello Clara\n",
      "Hello Blanca\n",
      "Hello Felipe\n"
     ]
    }
   ],
   "source": [
    "def saludaVarios(lst, idioma=\"es\"):\n",
    "    for nombre in lst:\n",
    "        print(saluda(nombre, idioma))\n",
    "        \n",
    "saludaVarios(nombres)"
   ]
  },
  {
   "cell_type": "code",
   "execution_count": 27,
   "metadata": {},
   "outputs": [
    {
     "name": "stdout",
     "output_type": "stream",
     "text": [
      "Hello Juan\n",
      "Hello Luis\n",
      "Hello Victor\n"
     ]
    }
   ],
   "source": [
    "saludaVarios([\"Juan\",\"Luis\",\"Victor\"])"
   ]
  },
  {
   "cell_type": "code",
   "execution_count": 45,
   "metadata": {},
   "outputs": [
    {
     "name": "stdout",
     "output_type": "stream",
     "text": [
      "('Fran', 'Clara', 'Blanca', 'Felipe')\n",
      "Hello Fran\n",
      "Hello Clara\n",
      "Hello Blanca\n",
      "Hello Felipe\n"
     ]
    }
   ],
   "source": [
    "def saludaVarios(*nombres, idioma=\"es\"):\n",
    "    print(nombres)\n",
    "    for nombre in nombres:\n",
    "        print(saluda(nombre, idioma))\n",
    "        \n",
    "saludaVarios(*nombres,idioma=\"en\")"
   ]
  },
  {
   "cell_type": "code",
   "execution_count": 59,
   "metadata": {},
   "outputs": [
    {
     "name": "stdout",
     "output_type": "stream",
     "text": [
      "['Fran', 'Clara', 'Blanca', 'Felipe']\n"
     ]
    }
   ],
   "source": [
    "print(*nombres)"
   ]
  },
  {
   "cell_type": "code",
   "execution_count": 58,
   "metadata": {},
   "outputs": [
    {
     "name": "stdout",
     "output_type": "stream",
     "text": [
      "('nombre', 'Juan') ('edad', 30)\n"
     ]
    }
   ],
   "source": [
    "p = {\n",
    "    \"nombre\":\"Juan\",\n",
    "    \"edad\":30\n",
    "}\n",
    "\n",
    "print(*p.items())"
   ]
  },
  {
   "cell_type": "code",
   "execution_count": 69,
   "metadata": {},
   "outputs": [
    {
     "name": "stdout",
     "output_type": "stream",
     "text": [
      "<function saludaAmigo at 0x108c10b00>\n",
      "¡Hola Fran!\n",
      "¡Hola Clara!\n",
      "¡Hola Blanca!\n",
      "¡Hola Felipe!\n"
     ]
    }
   ],
   "source": [
    "def saludaAmigo(nombre,idioma=\"es\"):\n",
    "    if idioma == \"es\":\n",
    "        return \"¡Hola \" + nombre + \"!\"\n",
    "    elif idioma == \"en\":\n",
    "        return \"Hello \" + nombre + \"!\"\n",
    "\n",
    "def saludaVarios2(*nombres, fn, idioma=\"es\"):\n",
    "    print(fn)\n",
    "    for nombre in nombres:\n",
    "        print(fn(nombre, idioma))\n",
    "\n",
    "saludaVarios2(*nombres, fn=saludaAmigo)"
   ]
  },
  {
   "cell_type": "code",
   "execution_count": 72,
   "metadata": {},
   "outputs": [
    {
     "name": "stdout",
     "output_type": "stream",
     "text": [
      "¡Hola Pepe!\n"
     ]
    },
    {
     "ename": "TypeError",
     "evalue": "'str' object is not callable",
     "output_type": "error",
     "traceback": [
      "\u001b[0;31m---------------------------------------------------------------------------\u001b[0m",
      "\u001b[0;31mTypeError\u001b[0m                                 Traceback (most recent call last)",
      "\u001b[0;32m<ipython-input-72-96969107d29e>\u001b[0m in \u001b[0;36m<module>\u001b[0;34m\u001b[0m\n\u001b[1;32m      1\u001b[0m \u001b[0ma\u001b[0m \u001b[0;34m=\u001b[0m \u001b[0msaludaAmigo\u001b[0m\u001b[0;34m(\u001b[0m\u001b[0;34m\"Pepe\"\u001b[0m\u001b[0;34m)\u001b[0m\u001b[0;34m\u001b[0m\u001b[0;34m\u001b[0m\u001b[0m\n\u001b[0;32m----> 2\u001b[0;31m \u001b[0msaludaVarios2\u001b[0m\u001b[0;34m(\u001b[0m\u001b[0;34m*\u001b[0m\u001b[0mnombres\u001b[0m\u001b[0;34m,\u001b[0m \u001b[0mfn\u001b[0m\u001b[0;34m=\u001b[0m\u001b[0ma\u001b[0m\u001b[0;34m)\u001b[0m\u001b[0;34m\u001b[0m\u001b[0;34m\u001b[0m\u001b[0m\n\u001b[0m",
      "\u001b[0;32m<ipython-input-69-ce3f689c90c5>\u001b[0m in \u001b[0;36msaludaVarios2\u001b[0;34m(fn, idioma, *nombres)\u001b[0m\n\u001b[1;32m      8\u001b[0m     \u001b[0mprint\u001b[0m\u001b[0;34m(\u001b[0m\u001b[0mfn\u001b[0m\u001b[0;34m)\u001b[0m\u001b[0;34m\u001b[0m\u001b[0;34m\u001b[0m\u001b[0m\n\u001b[1;32m      9\u001b[0m     \u001b[0;32mfor\u001b[0m \u001b[0mnombre\u001b[0m \u001b[0;32min\u001b[0m \u001b[0mnombres\u001b[0m\u001b[0;34m:\u001b[0m\u001b[0;34m\u001b[0m\u001b[0;34m\u001b[0m\u001b[0m\n\u001b[0;32m---> 10\u001b[0;31m         \u001b[0mprint\u001b[0m\u001b[0;34m(\u001b[0m\u001b[0mfn\u001b[0m\u001b[0;34m(\u001b[0m\u001b[0mnombre\u001b[0m\u001b[0;34m,\u001b[0m \u001b[0midioma\u001b[0m\u001b[0;34m)\u001b[0m\u001b[0;34m)\u001b[0m\u001b[0;34m\u001b[0m\u001b[0;34m\u001b[0m\u001b[0m\n\u001b[0m\u001b[1;32m     11\u001b[0m \u001b[0;34m\u001b[0m\u001b[0m\n\u001b[1;32m     12\u001b[0m \u001b[0msaludaVarios2\u001b[0m\u001b[0;34m(\u001b[0m\u001b[0;34m*\u001b[0m\u001b[0mnombres\u001b[0m\u001b[0;34m,\u001b[0m \u001b[0mfn\u001b[0m\u001b[0;34m=\u001b[0m\u001b[0msaludaAmigo\u001b[0m\u001b[0;34m)\u001b[0m\u001b[0;34m\u001b[0m\u001b[0;34m\u001b[0m\u001b[0m\n",
      "\u001b[0;31mTypeError\u001b[0m: 'str' object is not callable"
     ]
    }
   ],
   "source": [
    "a = saludaAmigo(\"Pepe\")\n",
    "saludaVarios2(*nombres, fn=a)"
   ]
  },
  {
   "cell_type": "code",
   "execution_count": 75,
   "metadata": {},
   "outputs": [
    {
     "ename": "TypeError",
     "evalue": "'list' object is not callable",
     "output_type": "error",
     "traceback": [
      "\u001b[0;31m---------------------------------------------------------------------------\u001b[0m",
      "\u001b[0;31mTypeError\u001b[0m                                 Traceback (most recent call last)",
      "\u001b[0;32m<ipython-input-75-1e237c1fc098>\u001b[0m in \u001b[0;36m<module>\u001b[0;34m\u001b[0m\n\u001b[0;32m----> 1\u001b[0;31m \u001b[0;34m[\u001b[0m\u001b[0;34m]\u001b[0m\u001b[0;34m(\u001b[0m\u001b[0;34m\"pepe\"\u001b[0m\u001b[0;34m)\u001b[0m\u001b[0;34m\u001b[0m\u001b[0;34m\u001b[0m\u001b[0m\n\u001b[0m",
      "\u001b[0;31mTypeError\u001b[0m: 'list' object is not callable"
     ]
    }
   ],
   "source": [
    "[](\"pepe\")"
   ]
  },
  {
   "cell_type": "code",
   "execution_count": 121,
   "metadata": {},
   "outputs": [
    {
     "name": "stdout",
     "output_type": "stream",
     "text": [
      "{'edad': 25}\n",
      "🤷🏼‍Hola Marta\n",
      "{'edad': 30}\n",
      "💁🏼‍♂️Hola Juan\n",
      "{}\n",
      "💁🏼‍♂️Hola pepe\n"
     ]
    }
   ],
   "source": [
    "juan = {\n",
    "    \"nombre\":\"Juan\",\n",
    "    \"edad\":30,\n",
    "    \"sexo\":\"M\",\n",
    "}\n",
    "\n",
    "marta = {\n",
    "    \"nombre\":\"Marta\",\n",
    "    \"edad\":25,\n",
    "    \"sexo\":\"F\",\n",
    "}\n",
    "\n",
    "def saludaObj(nombre, sexo, **args):\n",
    "    print(args)\n",
    "    \n",
    "    if sexo == \"M\":\n",
    "        print(\"💁🏼‍♂️Hola\",nombre)\n",
    "    if sexo == \"F\":\n",
    "        print(\"🤷🏼‍Hola\",nombre)\n",
    "\n",
    "# Iteramos los nombres en la lista\n",
    "pers = [marta,juan]\n",
    "for p in pers:\n",
    "    saludaObj(**p)\n",
    "\n",
    "saludaObj(sexo=\"M\", nombre=\"pepe\")"
   ]
  },
  {
   "cell_type": "code",
   "execution_count": 126,
   "metadata": {},
   "outputs": [
    {
     "name": "stdout",
     "output_type": "stream",
     "text": [
      "(5, 4, 3)\n",
      "{'b': 4}\n"
     ]
    }
   ],
   "source": [
    "def fn(*args, **kwargs):\n",
    "    print(args)\n",
    "    print(kwargs)\n",
    "    \n",
    "fn(5,4,3,b=4)"
   ]
  },
  {
   "cell_type": "code",
   "execution_count": 142,
   "metadata": {},
   "outputs": [
    {
     "data": {
      "text/plain": [
       "'Hola4'"
      ]
     },
     "execution_count": 142,
     "metadata": {},
     "output_type": "execute_result"
    }
   ],
   "source": [
    "def cuenta10():\n",
    "    for i in range(5):\n",
    "        yield \"Hola\" + str(i)\n",
    "\n",
    "g = cuenta10()\n",
    "g.__next__()\n",
    "g.__next__()\n",
    "g.__next__()\n",
    "g.__next__()\n",
    "g.__next__()\n"
   ]
  },
  {
   "cell_type": "code",
   "execution_count": 140,
   "metadata": {},
   "outputs": [
    {
     "ename": "MemoryError",
     "evalue": "",
     "output_type": "error",
     "traceback": [
      "\u001b[0;31m---------------------------------------------------------------------------\u001b[0m",
      "\u001b[0;31mMemoryError\u001b[0m                               Traceback (most recent call last)",
      "\u001b[0;32m<ipython-input-140-fa2f3f508215>\u001b[0m in \u001b[0;36m<module>\u001b[0;34m\u001b[0m\n\u001b[0;32m----> 1\u001b[0;31m \u001b[0mlist\u001b[0m\u001b[0;34m(\u001b[0m\u001b[0mrange\u001b[0m\u001b[0;34m(\u001b[0m\u001b[0;36m10000000000000000\u001b[0m\u001b[0;34m)\u001b[0m\u001b[0;34m)\u001b[0m\u001b[0;34m\u001b[0m\u001b[0;34m\u001b[0m\u001b[0m\n\u001b[0m",
      "\u001b[0;31mMemoryError\u001b[0m: "
     ]
    }
   ],
   "source": [
    "list(range(10000000000000000))"
   ]
  },
  {
   "cell_type": "code",
   "execution_count": 143,
   "metadata": {},
   "outputs": [
    {
     "name": "stdout",
     "output_type": "stream",
     "text": [
      "Hola0\n",
      "Hola1\n",
      "Hola2\n",
      "Hola3\n",
      "Hola4\n"
     ]
    }
   ],
   "source": [
    "for e in cuenta10():\n",
    "    print(e)"
   ]
  },
  {
   "cell_type": "code",
   "execution_count": 144,
   "metadata": {},
   "outputs": [
    {
     "data": {
      "text/plain": [
       "['Hola0', 'Hola1', 'Hola2', 'Hola3', 'Hola4']"
      ]
     },
     "execution_count": 144,
     "metadata": {},
     "output_type": "execute_result"
    }
   ],
   "source": [
    "list(cuenta10())"
   ]
  },
  {
   "cell_type": "code",
   "execution_count": 162,
   "metadata": {},
   "outputs": [
    {
     "data": {
      "text/plain": [
       "'Marinero de luces Pepe'"
      ]
     },
     "execution_count": 162,
     "metadata": {},
     "output_type": "execute_result"
    }
   ],
   "source": [
    "def saludador(nombre, micantante=\"maluma\"):\n",
    "    def maluma():\n",
    "        return \"Maluma baby \" + nombre\n",
    "    def pitbul():\n",
    "        return \"Dale \" + nombre\n",
    "    def pantoja():\n",
    "        return \"Marinero de luces \" + nombre\n",
    "\n",
    "    if micantante == \"maluma\":\n",
    "        return maluma\n",
    "    elif micantante == \"pitbul\":\n",
    "        return pitbul\n",
    "    else:\n",
    "        return pantoja\n",
    "\n",
    "# a = saludador(\"Pepe\")    \n",
    "# a()\n",
    "\n",
    "saludador(\"Pepe\",\"asdf\")()"
   ]
  },
  {
   "cell_type": "code",
   "execution_count": null,
   "metadata": {},
   "outputs": [],
   "source": []
  }
 ],
 "metadata": {
  "kernelspec": {
   "display_name": "Python 3",
   "language": "python",
   "name": "python3"
  },
  "language_info": {
   "codemirror_mode": {
    "name": "ipython",
    "version": 3
   },
   "file_extension": ".py",
   "mimetype": "text/x-python",
   "name": "python",
   "nbconvert_exporter": "python",
   "pygments_lexer": "ipython3",
   "version": "3.7.5"
  }
 },
 "nbformat": 4,
 "nbformat_minor": 2
}
